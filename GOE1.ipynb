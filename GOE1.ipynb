{
  "nbformat": 4,
  "nbformat_minor": 0,
  "metadata": {
    "colab": {
      "name": "GOE1.ipynb",
      "provenance": [],
      "collapsed_sections": [],
      "include_colab_link": true
    },
    "kernelspec": {
      "name": "python3",
      "display_name": "Python 3"
    },
    "accelerator": "GPU"
  },
  "cells": [
    {
      "cell_type": "markdown",
      "metadata": {
        "id": "view-in-github",
        "colab_type": "text"
      },
      "source": [
        "<a href=\"https://colab.research.google.com/github/Nam-SW/GOE/blob/master/GOE1.ipynb\" target=\"_parent\"><img src=\"https://colab.research.google.com/assets/colab-badge.svg\" alt=\"Open In Colab\"/></a>"
      ]
    },
    {
      "cell_type": "markdown",
      "metadata": {
        "id": "FHL2ANTEG-WH",
        "colab_type": "text"
      },
      "source": [
        "# GOE 모델 만들거시다"
      ]
    },
    {
      "cell_type": "markdown",
      "metadata": {
        "id": "VLzciQhGsR2N",
        "colab_type": "text"
      },
      "source": [
        "데이터 불러오기"
      ]
    },
    {
      "cell_type": "code",
      "metadata": {
        "id": "y04pAbgOG8KW",
        "colab_type": "code",
        "outputId": "571b6bae-4815-4c04-e0a3-8364607a10b2",
        "colab": {
          "base_uri": "https://localhost:8080/",
          "height": 35
        }
      },
      "source": [
        "from google.colab import drive\n",
        "from tensorflow.keras.models import load_model\n",
        "import numpy as np\n",
        "import time # 인풋데이터를 섞기 위한 랜덤시드를 위해!\n",
        "\n",
        "drive.mount('/content/gdrive')"
      ],
      "execution_count": 57,
      "outputs": [
        {
          "output_type": "stream",
          "text": [
            "Drive already mounted at /content/gdrive; to attempt to forcibly remount, call drive.mount(\"/content/gdrive\", force_remount=True).\n"
          ],
          "name": "stdout"
        }
      ]
    },
    {
      "cell_type": "markdown",
      "metadata": {
        "id": "hhGJjTuOs5sF",
        "colab_type": "text"
      },
      "source": [
        "데이터 로드"
      ]
    },
    {
      "cell_type": "code",
      "metadata": {
        "id": "SLfWq-6Cs47F",
        "colab_type": "code",
        "colab": {}
      },
      "source": [
        "class m1_data:\n",
        "    def __init__(self): # 검증셋 만들어야함\n",
        "        x_train = np.load('/content/gdrive/My Drive/GOE/m1_Xtrain.npy')\n",
        "        y_train = np.load('/content/gdrive/My Drive/GOE/m1_Ytrain.npy')\n",
        "        x_test = np.load('/content/gdrive/My Drive/GOE/m1_Xtest.npy')\n",
        "        y_test = np.load('/content/gdrive/My Drive/GOE/m1_Ytest.npy')\n",
        "\n",
        "        np.random.seed(int(time.time()))\n",
        "\n",
        "        # 배열 섞기\n",
        "        permutation = np.random.permutation(y_train.shape[0])\n",
        "        x_train = x_train[permutation, :]\n",
        "        y_train = y_train[permutation]\n",
        "        # print(x)\n",
        "        # print(y)\n",
        "\n",
        "        # 배열 섞고싶다\n",
        "        self.x_train = x_train\n",
        "        self.y_train = y_train\n",
        "        self.x_test = x_test\n",
        "        self.y_test = y_test\n",
        "        self.x_shape = x_test.shape[1]\n",
        "        self.y_shape = y_test.shape[1]"
      ],
      "execution_count": 0,
      "outputs": []
    },
    {
      "cell_type": "markdown",
      "metadata": {
        "id": "D6XrWLPL-pqW",
        "colab_type": "text"
      },
      "source": [
        "학습 그래프 함수 정의"
      ]
    },
    {
      "cell_type": "code",
      "metadata": {
        "id": "W1K_kZpw-lrg",
        "colab_type": "code",
        "colab": {}
      },
      "source": [
        "import matplotlib.pyplot as plt\n",
        "\n",
        "def plot_graph(history, yname, title=None):\n",
        "    # summarize history for accuracy\n",
        "    if not isinstance(history, dict):\n",
        "        history = history.history\n",
        "\n",
        "    if yname == 'acc':\n",
        "        plt.plot(history['acc']) # 선 그리기\n",
        "        plt.plot(history['val_acc'])\n",
        "        plt.ylabel('Accuracy') # y축 이름 표시\n",
        "    else:\n",
        "        plt.plot(history['loss'])\n",
        "        plt.plot(history['val_loss'])\n",
        "        plt.ylabel('Loss') # y축 이름 표시\n",
        "        \n",
        "    if title is not None:\n",
        "        plt.title(title) # 그래프 제목 표시\n",
        "    \n",
        "    plt.xlabel('Epoch') # x축 이름 표시\n",
        "    plt.legend(['Training', 'Verification'], loc=0) # 각 라인의 표식 표시\n",
        "    plt.show()"
      ],
      "execution_count": 0,
      "outputs": []
    },
    {
      "cell_type": "markdown",
      "metadata": {
        "id": "sdHdDwCaEgx0",
        "colab_type": "text"
      },
      "source": [
        "모델 정의"
      ]
    },
    {
      "cell_type": "code",
      "metadata": {
        "id": "nA2J6SGz26cz",
        "colab_type": "code",
        "colab": {}
      },
      "source": [
        "import keras\n",
        "from keras import layers\n",
        "from keras.models import Sequential\n",
        "\n",
        "def build_model(input_size, output_size):\n",
        "    m = Sequential()\n",
        "    m.add(layers.Dense(16, activation='relu', input_shape=(input_size,)))\n",
        "    m.add(layers.Dense(64, activation='relu'))\n",
        "    m.add(layers.Dense(128, activation='relu'))\n",
        "    m.add(layers.Dropout(0.2))\n",
        "    m.add(layers.Dense(256, activation='relu'))\n",
        "\n",
        "\n",
        "    m.add(layers.Dense(output_size, activation='sigmoid'))\n",
        "\n",
        "    # m.compile(loss='binary_crossentropy', optimizer='adam')\n",
        "    m.compile(loss='mse', optimizer='adam')\n",
        "\n",
        "    return m"
      ],
      "execution_count": 0,
      "outputs": []
    },
    {
      "cell_type": "markdown",
      "metadata": {
        "id": "YPYKaM_c-g5Q",
        "colab_type": "text"
      },
      "source": [
        "실행"
      ]
    },
    {
      "cell_type": "code",
      "metadata": {
        "id": "DIHfDjA8EfsI",
        "colab_type": "code",
        "outputId": "1b624cf4-6968-481d-ed4d-a17f5ba6784e",
        "colab": {
          "base_uri": "https://localhost:8080/",
          "height": 1000
        }
      },
      "source": [
        "data = m1_data()\n",
        "model = build_model(data.x_shape, data.y_shape)\n",
        "model.summary()\n",
        "history = model.fit(data.x_train, data.y_train*8, epochs=100, batch_size=5, validation_split=0.2, verbose=2)\n",
        "\n",
        "performace_test = model.evaluate(data.x_test, data.y_test*8, batch_size=5)\n",
        "print('\\nTest Loss -> {:.2f}'.format(performace_test))"
      ],
      "execution_count": 73,
      "outputs": [
        {
          "output_type": "stream",
          "text": [
            "Model: \"sequential_24\"\n",
            "_________________________________________________________________\n",
            "Layer (type)                 Output Shape              Param #   \n",
            "=================================================================\n",
            "dense_104 (Dense)            (None, 16)                80        \n",
            "_________________________________________________________________\n",
            "dense_105 (Dense)            (None, 64)                1088      \n",
            "_________________________________________________________________\n",
            "dense_106 (Dense)            (None, 128)               8320      \n",
            "_________________________________________________________________\n",
            "dropout_22 (Dropout)         (None, 128)               0         \n",
            "_________________________________________________________________\n",
            "dense_107 (Dense)            (None, 256)               33024     \n",
            "_________________________________________________________________\n",
            "dense_108 (Dense)            (None, 96)                24672     \n",
            "=================================================================\n",
            "Total params: 67,184\n",
            "Trainable params: 67,184\n",
            "Non-trainable params: 0\n",
            "_________________________________________________________________\n",
            "Train on 292 samples, validate on 73 samples\n",
            "Epoch 1/100\n",
            " - 2s - loss: 25.9120 - val_loss: 25.6182\n",
            "Epoch 2/100\n",
            " - 0s - loss: 25.4192 - val_loss: 25.6102\n",
            "Epoch 3/100\n",
            " - 0s - loss: 25.4120 - val_loss: 25.5964\n",
            "Epoch 4/100\n",
            " - 0s - loss: 25.4195 - val_loss: 25.6096\n",
            "Epoch 5/100\n",
            " - 0s - loss: 25.4078 - val_loss: 25.6060\n",
            "Epoch 6/100\n",
            " - 0s - loss: 25.3951 - val_loss: 25.5954\n",
            "Epoch 7/100\n",
            " - 0s - loss: 25.3852 - val_loss: 25.5892\n",
            "Epoch 8/100\n",
            " - 0s - loss: 25.3846 - val_loss: 25.5836\n",
            "Epoch 9/100\n",
            " - 0s - loss: 25.3827 - val_loss: 25.5877\n",
            "Epoch 10/100\n",
            " - 0s - loss: 25.3806 - val_loss: 25.5855\n",
            "Epoch 11/100\n",
            " - 0s - loss: 25.3790 - val_loss: 25.5790\n",
            "Epoch 12/100\n",
            " - 0s - loss: 25.3669 - val_loss: 25.5772\n",
            "Epoch 13/100\n",
            " - 0s - loss: 25.3627 - val_loss: 25.5710\n",
            "Epoch 14/100\n",
            " - 0s - loss: 25.3593 - val_loss: 25.5730\n",
            "Epoch 15/100\n",
            " - 0s - loss: 25.3566 - val_loss: 25.5690\n",
            "Epoch 16/100\n",
            " - 0s - loss: 25.3557 - val_loss: 25.5599\n",
            "Epoch 17/100\n",
            " - 0s - loss: 25.3589 - val_loss: 25.5574\n",
            "Epoch 18/100\n",
            " - 0s - loss: 25.3450 - val_loss: 25.5519\n",
            "Epoch 19/100\n",
            " - 0s - loss: 25.3467 - val_loss: 25.5508\n",
            "Epoch 20/100\n",
            " - 0s - loss: 25.3499 - val_loss: 25.5487\n",
            "Epoch 21/100\n",
            " - 0s - loss: 25.3463 - val_loss: 25.5415\n",
            "Epoch 22/100\n",
            " - 0s - loss: 25.3457 - val_loss: 25.5434\n",
            "Epoch 23/100\n",
            " - 0s - loss: 25.3418 - val_loss: 25.5372\n",
            "Epoch 24/100\n",
            " - 0s - loss: 25.3380 - val_loss: 25.5206\n",
            "Epoch 25/100\n",
            " - 0s - loss: 25.3354 - val_loss: 25.5141\n",
            "Epoch 26/100\n",
            " - 0s - loss: 25.3418 - val_loss: 25.5456\n",
            "Epoch 27/100\n",
            " - 0s - loss: 25.3400 - val_loss: 25.5094\n",
            "Epoch 28/100\n",
            " - 0s - loss: 25.3322 - val_loss: 25.5300\n",
            "Epoch 29/100\n",
            " - 0s - loss: 25.3323 - val_loss: 25.5198\n",
            "Epoch 30/100\n",
            " - 0s - loss: 25.3313 - val_loss: 25.5121\n",
            "Epoch 31/100\n",
            " - 0s - loss: 25.3297 - val_loss: 25.5161\n",
            "Epoch 32/100\n",
            " - 0s - loss: 25.3321 - val_loss: 25.5201\n",
            "Epoch 33/100\n",
            " - 0s - loss: 25.3251 - val_loss: 25.4895\n",
            "Epoch 34/100\n",
            " - 0s - loss: 25.3320 - val_loss: 25.4827\n",
            "Epoch 35/100\n",
            " - 0s - loss: 25.3249 - val_loss: 25.4850\n",
            "Epoch 36/100\n",
            " - 0s - loss: 25.3179 - val_loss: 25.4897\n",
            "Epoch 37/100\n",
            " - 0s - loss: 25.3220 - val_loss: 25.4928\n",
            "Epoch 38/100\n",
            " - 0s - loss: 25.3158 - val_loss: 25.4734\n",
            "Epoch 39/100\n",
            " - 0s - loss: 25.3162 - val_loss: 25.4850\n",
            "Epoch 40/100\n",
            " - 0s - loss: 25.3109 - val_loss: 25.4705\n",
            "Epoch 41/100\n",
            " - 0s - loss: 25.3162 - val_loss: 25.4611\n",
            "Epoch 42/100\n",
            " - 0s - loss: 25.3088 - val_loss: 25.4592\n",
            "Epoch 43/100\n",
            " - 0s - loss: 25.3108 - val_loss: 25.4624\n",
            "Epoch 44/100\n",
            " - 0s - loss: 25.3085 - val_loss: 25.4638\n",
            "Epoch 45/100\n",
            " - 0s - loss: 25.3085 - val_loss: 25.4592\n",
            "Epoch 46/100\n",
            " - 0s - loss: 25.3147 - val_loss: 25.4648\n",
            "Epoch 47/100\n",
            " - 0s - loss: 25.3085 - val_loss: 25.4561\n",
            "Epoch 48/100\n",
            " - 0s - loss: 25.3026 - val_loss: 25.4829\n",
            "Epoch 49/100\n",
            " - 0s - loss: 25.3152 - val_loss: 25.4760\n",
            "Epoch 50/100\n",
            " - 0s - loss: 25.3048 - val_loss: 25.4580\n",
            "Epoch 51/100\n",
            " - 0s - loss: 25.3043 - val_loss: 25.4665\n",
            "Epoch 52/100\n",
            " - 0s - loss: 25.3035 - val_loss: 25.4785\n",
            "Epoch 53/100\n",
            " - 0s - loss: 25.2991 - val_loss: 25.4696\n",
            "Epoch 54/100\n",
            " - 0s - loss: 25.3043 - val_loss: 25.4617\n",
            "Epoch 55/100\n",
            " - 0s - loss: 25.3012 - val_loss: 25.4536\n",
            "Epoch 56/100\n",
            " - 0s - loss: 25.3021 - val_loss: 25.4692\n",
            "Epoch 57/100\n",
            " - 0s - loss: 25.3017 - val_loss: 25.4619\n",
            "Epoch 58/100\n",
            " - 0s - loss: 25.3028 - val_loss: 25.4643\n",
            "Epoch 59/100\n",
            " - 0s - loss: 25.3021 - val_loss: 25.4619\n",
            "Epoch 60/100\n",
            " - 0s - loss: 25.2977 - val_loss: 25.4683\n",
            "Epoch 61/100\n",
            " - 0s - loss: 25.3143 - val_loss: 25.4685\n",
            "Epoch 62/100\n",
            " - 0s - loss: 25.3073 - val_loss: 25.4575\n",
            "Epoch 63/100\n",
            " - 0s - loss: 25.2933 - val_loss: 25.4603\n",
            "Epoch 64/100\n",
            " - 0s - loss: 25.3050 - val_loss: 25.4809\n",
            "Epoch 65/100\n",
            " - 0s - loss: 25.3048 - val_loss: 25.4562\n",
            "Epoch 66/100\n",
            " - 0s - loss: 25.2922 - val_loss: 25.4883\n",
            "Epoch 67/100\n",
            " - 0s - loss: 25.2989 - val_loss: 25.4543\n",
            "Epoch 68/100\n",
            " - 0s - loss: 25.2944 - val_loss: 25.4693\n",
            "Epoch 69/100\n",
            " - 0s - loss: 25.2962 - val_loss: 25.4642\n",
            "Epoch 70/100\n",
            " - 0s - loss: 25.2905 - val_loss: 25.4491\n",
            "Epoch 71/100\n",
            " - 0s - loss: 25.2964 - val_loss: 25.4608\n",
            "Epoch 72/100\n",
            " - 0s - loss: 25.2981 - val_loss: 25.4499\n",
            "Epoch 73/100\n",
            " - 0s - loss: 25.2985 - val_loss: 25.4536\n",
            "Epoch 74/100\n",
            " - 0s - loss: 25.3015 - val_loss: 25.4626\n",
            "Epoch 75/100\n",
            " - 0s - loss: 25.2951 - val_loss: 25.4577\n",
            "Epoch 76/100\n",
            " - 0s - loss: 25.2940 - val_loss: 25.4575\n",
            "Epoch 77/100\n",
            " - 0s - loss: 25.2945 - val_loss: 25.4589\n",
            "Epoch 78/100\n",
            " - 0s - loss: 25.2868 - val_loss: 25.4523\n",
            "Epoch 79/100\n",
            " - 0s - loss: 25.2920 - val_loss: 25.4609\n",
            "Epoch 80/100\n",
            " - 0s - loss: 25.2933 - val_loss: 25.4579\n",
            "Epoch 81/100\n",
            " - 0s - loss: 25.2910 - val_loss: 25.4567\n",
            "Epoch 82/100\n",
            " - 0s - loss: 25.2881 - val_loss: 25.4547\n",
            "Epoch 83/100\n",
            " - 0s - loss: 25.2945 - val_loss: 25.4712\n",
            "Epoch 84/100\n",
            " - 0s - loss: 25.3058 - val_loss: 25.4531\n",
            "Epoch 85/100\n",
            " - 0s - loss: 25.2893 - val_loss: 25.4546\n",
            "Epoch 86/100\n",
            " - 0s - loss: 25.2854 - val_loss: 25.4556\n",
            "Epoch 87/100\n",
            " - 0s - loss: 25.2937 - val_loss: 25.4651\n",
            "Epoch 88/100\n",
            " - 0s - loss: 25.2993 - val_loss: 25.4792\n",
            "Epoch 89/100\n",
            " - 0s - loss: 25.2862 - val_loss: 25.4723\n",
            "Epoch 90/100\n",
            " - 0s - loss: 25.2847 - val_loss: 25.4669\n",
            "Epoch 91/100\n",
            " - 0s - loss: 25.2896 - val_loss: 25.4597\n",
            "Epoch 92/100\n",
            " - 0s - loss: 25.2876 - val_loss: 25.4728\n",
            "Epoch 93/100\n",
            " - 0s - loss: 25.2921 - val_loss: 25.4580\n",
            "Epoch 94/100\n",
            " - 0s - loss: 25.2849 - val_loss: 25.4510\n",
            "Epoch 95/100\n",
            " - 0s - loss: 25.2822 - val_loss: 25.4540\n",
            "Epoch 96/100\n",
            " - 0s - loss: 25.2887 - val_loss: 25.4536\n",
            "Epoch 97/100\n",
            " - 0s - loss: 25.2885 - val_loss: 25.4596\n",
            "Epoch 98/100\n",
            " - 0s - loss: 25.2860 - val_loss: 25.4637\n",
            "Epoch 99/100\n",
            " - 0s - loss: 25.2847 - val_loss: 25.4650\n",
            "Epoch 100/100\n",
            " - 0s - loss: 25.2852 - val_loss: 25.4752\n",
            "30/30 [==============================] - 0s 368us/step\n",
            "\n",
            "Test Loss -> 24.93\n"
          ],
          "name": "stdout"
        }
      ]
    },
    {
      "cell_type": "markdown",
      "metadata": {
        "id": "mQP1-G6l-s0E",
        "colab_type": "text"
      },
      "source": [
        "그래프 그리기"
      ]
    },
    {
      "cell_type": "code",
      "metadata": {
        "id": "p7OXS755lxv_",
        "colab_type": "code",
        "outputId": "bbce84b0-d910-4cec-b2ae-37ddc62cfdc7",
        "colab": {
          "base_uri": "https://localhost:8080/",
          "height": 279
        }
      },
      "source": [
        "plot_graph(history, 'loss')"
      ],
      "execution_count": 74,
      "outputs": [
        {
          "output_type": "display_data",
          "data": {
            "image/png": "[encoded data removed]",
            "text/plain": [
              "<Figure size 432x288 with 1 Axes>"
            ]
          },
          "metadata": {
            "tags": []
          }
        }
      ]
    },
    {
      "cell_type": "markdown",
      "metadata": {
        "id": "0MPYR8wr-uIM",
        "colab_type": "text"
      },
      "source": [
        "학습된 모델로 예측"
      ]
    },
    {
      "cell_type": "code",
      "metadata": {
        "id": "6c7RsSS0WwXB",
        "colab_type": "code",
        "outputId": "207d91a5-bf20-4d38-ffcf-5966f86d12a5",
        "colab": {
          "base_uri": "https://localhost:8080/",
          "height": 1000
        }
      },
      "source": [
        "# d = np.array([[8, 5, 26.3, 3], [1, 1, -5.0, 1]])\n",
        "# model.predict(d[:1])[0]\n",
        "\n",
        "for i in range(30):\n",
        "    print(list(data.x_train[i]))\n",
        "    print(list(map(lambda x:1 if x >= 0.5 else 0, model.predict(data.x_test[i:i+1])[0])))"
      ],
      "execution_count": 75,
      "outputs": [
        {
          "output_type": "stream",
          "text": [
            "[2.0, 6.0, -1.1, 1.0]\n",
            "[0, 0, 0, 0, 0, 0, 0, 0, 0, 0, 0, 0, 0, 0, 0, 0, 0, 0, 0, 0, 0, 0, 0, 0, 0, 0, 0, 0, 0, 0, 0, 0, 0, 0, 0, 0, 0, 0, 0, 0, 0, 0, 0, 0, 0, 0, 0, 0, 1, 1, 1, 1, 1, 1, 1, 1, 1, 1, 1, 1, 1, 1, 1, 1, 1, 1, 1, 1, 1, 1, 1, 1, 1, 1, 1, 1, 1, 1, 1, 1, 1, 1, 1, 1, 1, 1, 1, 1, 1, 1, 1, 1, 1, 1, 1, 1]\n",
            "[3.0, 4.0, 2.1, 5.0]\n",
            "[0, 0, 0, 0, 0, 0, 0, 0, 0, 0, 0, 0, 0, 0, 0, 0, 0, 0, 0, 0, 0, 0, 0, 0, 0, 0, 0, 0, 0, 0, 0, 0, 0, 0, 0, 0, 0, 0, 0, 0, 0, 0, 0, 0, 0, 0, 0, 0, 1, 1, 1, 1, 1, 1, 1, 1, 1, 1, 1, 1, 1, 1, 1, 1, 1, 1, 1, 1, 1, 1, 1, 1, 1, 1, 1, 1, 1, 1, 1, 1, 1, 1, 1, 1, 1, 1, 1, 1, 1, 1, 1, 1, 1, 1, 1, 1]\n",
            "[7.0, 7.0, 29.5, 3.0]\n",
            "[1, 1, 1, 0, 0, 0, 0, 0, 0, 0, 0, 0, 0, 0, 0, 1, 1, 0, 0, 0, 0, 0, 0, 0, 0, 0, 0, 0, 0, 0, 0, 0, 0, 0, 0, 0, 0, 1, 1, 1, 1, 1, 1, 1, 1, 1, 1, 1, 1, 1, 1, 1, 1, 1, 1, 1, 1, 1, 1, 1, 1, 1, 1, 1, 1, 1, 1, 1, 1, 1, 1, 1, 1, 1, 1, 1, 1, 1, 1, 1, 1, 1, 1, 1, 1, 1, 1, 1, 1, 1, 1, 1, 1, 1, 1, 1]\n",
            "[6.0, 3.0, 22.4, 2.0]\n",
            "[1, 1, 1, 1, 1, 1, 0, 0, 0, 0, 0, 0, 0, 0, 0, 1, 1, 0, 0, 0, 0, 0, 0, 0, 0, 0, 0, 0, 0, 0, 0, 0, 0, 0, 0, 0, 0, 1, 1, 1, 1, 0, 1, 1, 1, 1, 1, 1, 1, 1, 1, 1, 1, 1, 1, 1, 1, 1, 1, 1, 1, 1, 1, 1, 1, 1, 1, 1, 1, 1, 1, 1, 1, 1, 1, 1, 1, 1, 1, 1, 1, 1, 1, 1, 1, 1, 1, 1, 1, 1, 1, 1, 1, 1, 1, 1]\n",
            "[1.0, 6.0, 1.0, 1.0]\n",
            "[0, 0, 0, 0, 0, 0, 0, 0, 0, 0, 0, 0, 0, 0, 0, 0, 0, 0, 0, 0, 0, 0, 0, 0, 0, 0, 0, 0, 0, 0, 0, 0, 0, 0, 0, 0, 0, 0, 0, 0, 0, 0, 0, 0, 0, 0, 0, 0, 1, 1, 1, 1, 1, 1, 1, 1, 1, 1, 1, 1, 1, 1, 1, 1, 1, 1, 1, 1, 1, 1, 1, 1, 1, 1, 1, 1, 1, 1, 1, 1, 1, 1, 1, 1, 1, 1, 1, 1, 1, 1, 1, 1, 1, 1, 1, 1]\n",
            "[11.0, 6.0, 10.6, 1.0]\n",
            "[0, 1, 0, 0, 0, 0, 0, 0, 0, 0, 0, 0, 0, 0, 0, 0, 0, 0, 0, 0, 0, 0, 0, 0, 0, 0, 0, 1, 1, 1, 0, 0, 0, 1, 0, 0, 0, 1, 1, 0, 0, 0, 0, 0, 1, 0, 0, 1, 1, 1, 1, 1, 1, 1, 1, 1, 1, 1, 1, 1, 1, 1, 1, 1, 1, 1, 1, 1, 1, 1, 1, 1, 1, 1, 1, 1, 1, 1, 1, 1, 1, 1, 1, 1, 1, 1, 1, 1, 1, 1, 1, 1, 1, 1, 1, 1]\n",
            "[7.0, 1.0, 23.3, 2.0]\n",
            "[0, 0, 0, 0, 0, 0, 0, 0, 0, 0, 0, 0, 0, 0, 0, 0, 0, 0, 0, 0, 0, 0, 0, 0, 0, 0, 0, 0, 0, 0, 0, 0, 0, 0, 0, 0, 0, 0, 0, 0, 0, 0, 0, 0, 0, 0, 0, 0, 1, 1, 1, 1, 1, 1, 1, 1, 1, 1, 1, 1, 1, 1, 1, 1, 1, 1, 1, 1, 1, 1, 1, 1, 1, 1, 1, 1, 1, 1, 1, 1, 1, 1, 1, 1, 1, 1, 1, 1, 1, 1, 1, 1, 1, 1, 1, 1]\n",
            "[5.0, 5.0, 11.2, 3.0]\n",
            "[0, 0, 0, 0, 0, 0, 0, 0, 0, 0, 0, 0, 0, 0, 0, 0, 0, 0, 0, 0, 0, 0, 0, 0, 0, 0, 0, 0, 0, 0, 0, 0, 0, 0, 0, 0, 0, 0, 0, 0, 0, 0, 0, 0, 0, 0, 0, 0, 1, 1, 1, 1, 1, 1, 1, 1, 1, 1, 1, 1, 1, 1, 1, 1, 1, 1, 1, 1, 1, 1, 1, 1, 1, 1, 1, 1, 1, 1, 1, 1, 1, 1, 1, 1, 1, 1, 1, 1, 1, 1, 1, 1, 1, 1, 1, 1]\n",
            "[2.0, 3.0, 4.2, 2.0]\n",
            "[0, 0, 0, 0, 0, 0, 0, 0, 0, 0, 0, 0, 0, 0, 0, 0, 0, 0, 0, 0, 0, 0, 0, 0, 0, 0, 0, 0, 0, 0, 0, 0, 0, 0, 0, 0, 0, 0, 0, 0, 0, 0, 0, 0, 0, 0, 0, 0, 1, 1, 1, 1, 1, 1, 1, 1, 1, 1, 1, 1, 1, 1, 1, 1, 1, 1, 1, 1, 1, 1, 1, 1, 1, 1, 1, 1, 1, 1, 1, 1, 1, 1, 1, 1, 1, 1, 1, 1, 1, 1, 1, 1, 1, 1, 1, 1]\n",
            "[5.0, 2.0, 18.2, 2.0]\n",
            "[0, 0, 0, 0, 0, 0, 0, 0, 0, 0, 0, 0, 0, 0, 0, 0, 0, 0, 0, 0, 0, 0, 0, 0, 0, 0, 0, 0, 0, 0, 0, 0, 0, 0, 0, 0, 0, 0, 0, 0, 0, 0, 0, 0, 0, 0, 0, 0, 1, 1, 1, 1, 1, 1, 1, 1, 1, 1, 1, 1, 1, 1, 1, 1, 1, 1, 1, 1, 1, 1, 1, 1, 1, 1, 1, 1, 1, 1, 1, 1, 1, 1, 1, 1, 1, 1, 1, 1, 1, 1, 1, 1, 1, 1, 1, 1]\n",
            "[3.0, 7.0, 7.6, 2.0]\n",
            "[0, 0, 0, 0, 0, 0, 0, 0, 0, 0, 0, 0, 0, 0, 0, 0, 0, 0, 0, 0, 0, 0, 0, 0, 0, 0, 0, 0, 0, 0, 0, 0, 0, 0, 0, 0, 0, 0, 0, 0, 0, 0, 0, 0, 0, 0, 0, 0, 1, 1, 1, 1, 1, 1, 1, 1, 1, 1, 1, 1, 1, 1, 1, 1, 1, 1, 1, 1, 1, 1, 1, 1, 1, 1, 1, 1, 1, 1, 1, 1, 1, 1, 1, 1, 1, 1, 1, 1, 1, 1, 1, 1, 1, 1, 1, 1]\n",
            "[4.0, 7.0, 9.0, 3.0]\n",
            "[0, 0, 0, 0, 0, 0, 0, 0, 0, 0, 0, 0, 0, 0, 0, 0, 0, 0, 0, 0, 0, 0, 0, 0, 0, 0, 0, 0, 0, 0, 0, 0, 0, 0, 0, 0, 0, 0, 0, 0, 0, 0, 0, 0, 0, 0, 0, 0, 1, 1, 1, 1, 1, 1, 1, 1, 1, 1, 1, 1, 1, 1, 1, 1, 1, 1, 1, 1, 1, 1, 1, 1, 1, 1, 1, 1, 1, 1, 1, 1, 1, 1, 1, 1, 1, 1, 1, 1, 1, 1, 1, 1, 1, 1, 1, 1]\n",
            "[4.0, 4.0, 13.4, 3.0]\n",
            "[0, 0, 0, 0, 0, 0, 0, 0, 0, 0, 0, 0, 0, 0, 0, 0, 0, 0, 0, 0, 0, 0, 0, 0, 0, 0, 0, 0, 0, 0, 0, 0, 0, 0, 0, 0, 0, 0, 0, 0, 0, 0, 0, 0, 0, 0, 0, 0, 1, 1, 1, 1, 1, 1, 1, 1, 1, 1, 1, 1, 1, 1, 1, 1, 1, 1, 1, 1, 1, 1, 1, 1, 1, 1, 1, 1, 1, 1, 1, 1, 1, 1, 1, 1, 1, 1, 1, 1, 1, 1, 1, 1, 1, 1, 1, 1]\n",
            "[10.0, 3.0, 15.3, 3.0]\n",
            "[1, 1, 0, 0, 0, 0, 0, 0, 0, 0, 0, 0, 0, 0, 0, 0, 0, 0, 0, 0, 0, 0, 0, 0, 0, 0, 0, 1, 1, 0, 0, 0, 0, 0, 0, 0, 0, 1, 1, 1, 1, 1, 1, 1, 1, 0, 1, 1, 1, 1, 1, 1, 1, 1, 1, 1, 1, 1, 1, 1, 1, 1, 1, 1, 1, 1, 1, 1, 1, 1, 1, 1, 1, 1, 1, 1, 1, 1, 1, 1, 1, 1, 1, 1, 1, 1, 1, 1, 1, 1, 1, 1, 1, 1, 1, 1]\n",
            "[10.0, 2.0, 15.4, 3.0]\n",
            "[0, 0, 0, 0, 0, 0, 0, 0, 0, 0, 0, 0, 0, 0, 0, 0, 0, 0, 0, 0, 0, 0, 0, 0, 0, 0, 0, 0, 0, 0, 0, 0, 0, 0, 0, 0, 0, 0, 0, 0, 0, 0, 0, 0, 0, 0, 0, 0, 1, 1, 1, 1, 1, 1, 1, 1, 1, 1, 1, 1, 1, 1, 1, 1, 1, 1, 1, 1, 1, 1, 1, 1, 1, 1, 1, 1, 1, 1, 1, 1, 1, 1, 1, 1, 1, 1, 1, 1, 1, 1, 1, 1, 1, 1, 1, 1]\n",
            "[1.0, 4.0, 4.5, 2.0]\n",
            "[0, 0, 0, 0, 0, 0, 0, 0, 0, 0, 0, 0, 0, 0, 0, 0, 0, 0, 0, 0, 0, 0, 0, 0, 0, 0, 0, 0, 0, 0, 0, 0, 0, 0, 0, 0, 0, 0, 0, 0, 0, 0, 0, 0, 0, 0, 0, 0, 1, 1, 1, 1, 1, 1, 1, 1, 1, 1, 1, 1, 1, 1, 1, 1, 1, 1, 1, 1, 1, 1, 1, 1, 1, 1, 1, 1, 1, 1, 1, 1, 1, 1, 1, 1, 1, 1, 1, 1, 1, 1, 1, 1, 1, 1, 1, 1]\n",
            "[2.0, 1.0, -9.5, 1.0]\n",
            "[1, 1, 1, 0, 0, 0, 0, 0, 0, 0, 0, 0, 0, 0, 0, 0, 0, 0, 0, 0, 0, 0, 0, 0, 0, 0, 0, 0, 0, 0, 0, 0, 0, 0, 0, 0, 0, 1, 1, 1, 0, 0, 1, 1, 1, 1, 1, 1, 1, 1, 1, 1, 1, 1, 1, 1, 1, 1, 1, 1, 1, 1, 1, 1, 1, 1, 1, 1, 1, 1, 1, 1, 1, 1, 1, 1, 1, 1, 1, 1, 1, 1, 1, 1, 1, 1, 1, 1, 1, 1, 1, 1, 1, 1, 1, 1]\n",
            "[12.0, 1.0, 2.4, 2.0]\n",
            "[0, 0, 0, 0, 0, 0, 0, 0, 0, 0, 0, 0, 0, 0, 0, 0, 0, 0, 0, 0, 0, 0, 0, 0, 0, 0, 0, 0, 0, 0, 0, 0, 0, 0, 0, 0, 0, 0, 0, 0, 0, 0, 0, 0, 0, 0, 0, 0, 1, 1, 1, 1, 1, 1, 1, 1, 1, 1, 1, 1, 1, 1, 1, 1, 1, 1, 1, 1, 1, 1, 1, 1, 1, 1, 1, 1, 1, 1, 1, 1, 1, 1, 1, 1, 1, 1, 1, 1, 1, 1, 1, 1, 1, 1, 1, 1]\n",
            "[11.0, 3.0, 7.1, 2.0]\n",
            "[0, 0, 0, 0, 0, 0, 0, 0, 0, 0, 0, 0, 0, 0, 0, 0, 0, 0, 0, 0, 0, 0, 0, 0, 0, 0, 0, 0, 0, 0, 0, 0, 0, 0, 0, 0, 0, 0, 0, 0, 0, 0, 0, 0, 0, 0, 0, 0, 1, 1, 1, 1, 1, 1, 1, 1, 1, 1, 1, 1, 1, 1, 1, 1, 1, 1, 1, 1, 1, 1, 1, 1, 1, 1, 1, 1, 1, 1, 1, 1, 1, 1, 1, 1, 1, 1, 1, 1, 1, 1, 1, 1, 1, 1, 1, 1]\n",
            "[3.0, 4.0, 14.0, 2.0]\n",
            "[0, 0, 0, 0, 0, 0, 0, 0, 0, 0, 0, 0, 0, 0, 0, 0, 0, 0, 0, 0, 0, 0, 0, 0, 0, 0, 0, 0, 0, 0, 0, 0, 0, 0, 0, 0, 0, 0, 0, 0, 0, 0, 0, 0, 0, 0, 0, 0, 1, 1, 1, 1, 1, 1, 1, 1, 1, 1, 1, 1, 1, 1, 1, 1, 1, 1, 1, 1, 1, 1, 1, 1, 1, 1, 1, 1, 1, 1, 1, 1, 1, 1, 1, 1, 1, 1, 1, 1, 1, 1, 1, 1, 1, 1, 1, 1]\n",
            "[9.0, 7.0, 20.8, 3.0]\n",
            "[1, 1, 0, 0, 0, 0, 0, 0, 0, 0, 0, 0, 0, 0, 0, 1, 1, 0, 0, 0, 0, 0, 0, 0, 0, 0, 0, 0, 0, 0, 0, 0, 0, 0, 0, 0, 0, 1, 1, 1, 1, 1, 1, 1, 1, 1, 1, 1, 1, 1, 1, 1, 1, 1, 1, 1, 1, 1, 1, 1, 1, 1, 1, 1, 1, 1, 1, 1, 1, 1, 1, 1, 1, 1, 1, 1, 1, 1, 1, 1, 1, 1, 1, 1, 1, 1, 1, 1, 1, 1, 1, 1, 1, 1, 1, 1]\n",
            "[9.0, 2.0, 17.6, 1.0]\n",
            "[0, 0, 0, 0, 0, 0, 0, 0, 0, 0, 0, 0, 0, 0, 0, 0, 0, 0, 0, 0, 0, 0, 0, 0, 0, 0, 0, 0, 0, 0, 0, 0, 0, 0, 0, 0, 0, 0, 0, 0, 0, 0, 0, 0, 0, 0, 0, 0, 1, 1, 1, 1, 1, 1, 1, 1, 1, 1, 1, 1, 1, 1, 1, 1, 1, 1, 1, 1, 1, 1, 1, 1, 1, 1, 1, 1, 1, 1, 1, 1, 1, 1, 1, 1, 1, 1, 1, 1, 1, 1, 1, 1, 1, 1, 1, 1]\n",
            "[7.0, 6.0, 29.5, 2.0]\n",
            "[0, 0, 0, 0, 0, 0, 0, 0, 0, 0, 0, 0, 0, 0, 0, 0, 0, 0, 0, 0, 0, 0, 0, 0, 0, 0, 0, 0, 0, 0, 0, 0, 0, 0, 0, 0, 0, 0, 0, 0, 0, 0, 0, 0, 0, 0, 0, 0, 1, 1, 1, 1, 1, 1, 1, 1, 1, 1, 1, 1, 1, 1, 1, 1, 1, 1, 1, 1, 1, 1, 1, 1, 1, 1, 1, 1, 1, 1, 1, 1, 1, 1, 1, 1, 1, 1, 1, 1, 1, 1, 1, 1, 1, 1, 1, 1]\n",
            "[7.0, 1.0, 21.9, 3.0]\n",
            "[1, 1, 0, 0, 0, 0, 0, 0, 0, 0, 0, 0, 0, 0, 0, 1, 1, 0, 0, 0, 0, 0, 0, 0, 0, 0, 0, 0, 0, 0, 0, 0, 0, 0, 0, 0, 0, 1, 1, 1, 1, 1, 1, 1, 1, 1, 1, 1, 1, 1, 1, 1, 1, 1, 1, 1, 1, 1, 1, 1, 1, 1, 1, 1, 1, 1, 1, 1, 1, 1, 1, 1, 1, 1, 1, 1, 1, 1, 1, 1, 1, 1, 1, 1, 1, 1, 1, 1, 1, 1, 1, 1, 1, 1, 1, 1]\n",
            "[12.0, 5.0, -2.2, 4.0]\n",
            "[1, 1, 1, 1, 1, 1, 0, 0, 0, 0, 0, 0, 0, 0, 0, 1, 0, 0, 0, 0, 0, 0, 0, 0, 0, 0, 0, 0, 0, 0, 0, 0, 0, 0, 0, 0, 0, 1, 1, 1, 1, 1, 1, 1, 1, 1, 1, 1, 1, 1, 1, 1, 1, 1, 1, 1, 1, 1, 1, 1, 1, 1, 1, 1, 1, 1, 1, 1, 1, 1, 1, 1, 1, 1, 1, 1, 1, 1, 1, 1, 1, 1, 1, 1, 1, 1, 1, 1, 1, 1, 1, 1, 1, 1, 1, 1]\n",
            "[1.0, 4.0, -2.6, 4.0]\n",
            "[1, 1, 0, 0, 0, 0, 0, 0, 0, 0, 0, 0, 0, 0, 0, 1, 1, 0, 0, 0, 0, 0, 0, 0, 0, 0, 0, 0, 0, 0, 0, 0, 0, 0, 0, 0, 0, 1, 1, 1, 1, 1, 1, 1, 1, 1, 1, 1, 1, 1, 1, 1, 1, 1, 1, 1, 1, 1, 1, 1, 1, 1, 1, 1, 1, 1, 1, 1, 1, 1, 1, 1, 1, 1, 1, 1, 1, 1, 1, 1, 1, 1, 1, 1, 1, 1, 1, 1, 1, 1, 1, 1, 1, 1, 1, 1]\n",
            "[12.0, 3.0, 0.6, 1.0]\n",
            "[0, 0, 0, 0, 0, 0, 0, 0, 0, 0, 0, 0, 0, 0, 0, 0, 0, 0, 0, 0, 0, 0, 0, 0, 0, 0, 0, 0, 0, 0, 0, 0, 0, 0, 0, 0, 0, 1, 1, 0, 0, 0, 0, 0, 0, 0, 0, 0, 1, 1, 1, 1, 1, 1, 1, 1, 1, 1, 1, 1, 1, 1, 1, 1, 1, 1, 1, 1, 1, 1, 1, 1, 1, 1, 1, 1, 1, 1, 1, 1, 1, 1, 1, 1, 1, 1, 1, 1, 1, 1, 1, 1, 1, 1, 1, 1]\n",
            "[2.0, 2.0, -5.8, 4.0]\n",
            "[0, 0, 0, 0, 0, 0, 0, 0, 0, 0, 0, 0, 0, 0, 0, 0, 0, 0, 0, 0, 0, 0, 0, 0, 0, 0, 0, 0, 0, 0, 0, 0, 0, 0, 0, 0, 0, 0, 0, 0, 0, 0, 0, 0, 0, 0, 0, 0, 1, 1, 1, 1, 1, 1, 1, 1, 1, 1, 1, 1, 1, 1, 1, 1, 1, 1, 1, 1, 1, 1, 1, 1, 1, 1, 1, 1, 1, 1, 1, 1, 1, 1, 1, 1, 1, 1, 1, 1, 1, 1, 1, 1, 1, 1, 1, 1]\n",
            "[1.0, 2.0, 0.2, 5.0]\n",
            "[0, 0, 0, 0, 0, 0, 0, 0, 0, 0, 0, 0, 0, 0, 0, 0, 0, 0, 0, 0, 0, 0, 0, 0, 0, 0, 0, 0, 0, 0, 0, 0, 0, 0, 0, 0, 0, 0, 0, 0, 0, 0, 0, 0, 0, 0, 0, 0, 1, 1, 1, 1, 1, 1, 1, 1, 1, 1, 1, 1, 1, 1, 1, 1, 1, 1, 1, 1, 1, 1, 1, 1, 1, 1, 1, 1, 1, 1, 1, 1, 1, 1, 1, 1, 1, 1, 1, 1, 1, 1, 1, 1, 1, 1, 1, 1]\n",
            "[2.0, 1.0, 1.9, 1.0]\n",
            "[0, 0, 0, 0, 0, 0, 0, 0, 0, 0, 0, 0, 0, 0, 0, 0, 0, 0, 0, 0, 0, 0, 0, 0, 0, 0, 0, 0, 0, 0, 0, 0, 0, 0, 0, 0, 0, 0, 0, 0, 0, 0, 0, 0, 0, 0, 0, 0, 1, 1, 1, 1, 1, 1, 1, 1, 1, 1, 1, 1, 1, 1, 1, 1, 1, 1, 1, 1, 1, 1, 1, 1, 1, 1, 1, 1, 1, 1, 1, 1, 1, 1, 1, 1, 1, 1, 1, 1, 1, 1, 1, 1, 1, 1, 1, 1]\n"
          ],
          "name": "stdout"
        }
      ]
    },
    {
      "cell_type": "markdown",
      "metadata": {
        "id": "gUZaMBmQ0eqy",
        "colab_type": "text"
      },
      "source": [
        "모델 저장"
      ]
    },
    {
      "cell_type": "code",
      "metadata": {
        "id": "0LKBQy4n0dpQ",
        "colab_type": "code",
        "colab": {}
      },
      "source": [
        "model.save('/content/gdrive/My Drive/GOE/model1.h5')"
      ],
      "execution_count": 0,
      "outputs": []
    }
  ]
}