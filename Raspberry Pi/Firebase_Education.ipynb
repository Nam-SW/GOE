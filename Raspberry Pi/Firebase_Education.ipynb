{
  "nbformat": 4,
  "nbformat_minor": 0,
  "metadata": {
    "colab": {
      "name": "Firebase Education.ipynb",
      "provenance": []
    },
    "kernelspec": {
      "name": "python3",
      "display_name": "Python 3"
    }
  },
  "cells": [
    {
      "cell_type": "markdown",
      "metadata": {
        "id": "qyrgkO3pFYbG",
        "colab_type": "text"
      },
      "source": [
        "**1. Firebase 데이터베이스 생성**"
      ]
    },
    {
      "cell_type": "code",
      "metadata": {
        "id": "o0ACA3fzFkam",
        "colab_type": "code",
        "colab": {}
      },
      "source": [
        "# 1. 파이어베이스 페이지 이동 -> https://firebase.google.com/\n",
        "# 2. 새 프로젝트 생성\n",
        "# 3. 프로젝트 이름: binsilTest학번\n",
        "# 4. 약관 동의 후 만들기"
      ],
      "execution_count": 0,
      "outputs": []
    },
    {
      "cell_type": "markdown",
      "metadata": {
        "id": "nszhQjZ4GdLx",
        "colab_type": "text"
      },
      "source": [
        "**2. 데이터베이스 링크 가져오기**"
      ]
    },
    {
      "cell_type": "code",
      "metadata": {
        "id": "gh9aiBLJHDoD",
        "colab_type": "code",
        "colab": {}
      },
      "source": [
        "# 1. Database 탭 선택\n",
        "# 2. 실시간 데이터베이스 선택\n",
        "# 3. 데이터베이스 페이지 탭 링크 복사 (링크 예시: \"https://gasinfo-3b38b.firebaseio.com/\")"
      ],
      "execution_count": 0,
      "outputs": []
    },
    {
      "cell_type": "markdown",
      "metadata": {
        "id": "fPEA1eKBFXtv",
        "colab_type": "text"
      },
      "source": [
        "**3. Firebase 사용환경 구축**"
      ]
    },
    {
      "cell_type": "code",
      "metadata": {
        "id": "BC2nUTISIjeD",
        "colab_type": "code",
        "outputId": "b09d9763-c45d-4143-a083-ec1839e01be2",
        "colab": {
          "base_uri": "https://localhost:8080/",
          "height": 318
        }
      },
      "source": [
        "!pip install bs4\n",
        "!pip install python-firebase"
      ],
      "execution_count": 0,
      "outputs": [
        {
          "output_type": "stream",
          "text": [
            "Requirement already satisfied: bs4 in /usr/local/lib/python3.6/dist-packages (0.0.1)\n",
            "Requirement already satisfied: beautifulsoup4 in /usr/local/lib/python3.6/dist-packages (from bs4) (4.6.3)\n",
            "Collecting python-firebase\n",
            "  Downloading https://files.pythonhosted.org/packages/32/e6/88b799753e64aeb0f24040b98c94012994cf9517c889dee4f8a49ac89400/python-firebase-1.2.tar.gz\n",
            "Requirement already satisfied: requests>=1.1.0 in /usr/local/lib/python3.6/dist-packages (from python-firebase) (2.21.0)\n",
            "Requirement already satisfied: chardet<3.1.0,>=3.0.2 in /usr/local/lib/python3.6/dist-packages (from requests>=1.1.0->python-firebase) (3.0.4)\n",
            "Requirement already satisfied: urllib3<1.25,>=1.21.1 in /usr/local/lib/python3.6/dist-packages (from requests>=1.1.0->python-firebase) (1.24.3)\n",
            "Requirement already satisfied: certifi>=2017.4.17 in /usr/local/lib/python3.6/dist-packages (from requests>=1.1.0->python-firebase) (2019.9.11)\n",
            "Requirement already satisfied: idna<2.9,>=2.5 in /usr/local/lib/python3.6/dist-packages (from requests>=1.1.0->python-firebase) (2.8)\n",
            "Building wheels for collected packages: python-firebase\n",
            "  Building wheel for python-firebase (setup.py) ... \u001b[?25l\u001b[?25hdone\n",
            "  Created wheel for python-firebase: filename=python_firebase-1.2-cp36-none-any.whl size=11533 sha256=088f141e0cdf8b6b5a8975bf1580a882092631a04b7504cf4544a4b11ae7aeff\n",
            "  Stored in directory: /root/.cache/pip/wheels/ba/40/ca/e41a25d7abb787092e837cb0f91f33b04b1a8fd9d17c2d33a6\n",
            "Successfully built python-firebase\n",
            "Installing collected packages: python-firebase\n",
            "Successfully installed python-firebase-1.2\n"
          ],
          "name": "stdout"
        }
      ]
    },
    {
      "cell_type": "markdown",
      "metadata": {
        "id": "vPmCd6pWRx_k",
        "colab_type": "text"
      },
      "source": [
        "**3-1. 모듈 설치 확인**"
      ]
    },
    {
      "cell_type": "code",
      "metadata": {
        "id": "prqOMEcsRVGv",
        "colab_type": "code",
        "colab": {}
      },
      "source": [
        "from firebase import firebase # firebase 라이브러리 불러오기"
      ],
      "execution_count": 0,
      "outputs": []
    },
    {
      "cell_type": "markdown",
      "metadata": {
        "id": "GFDDNn7gIiMa",
        "colab_type": "text"
      },
      "source": [
        "**4. Firebase url 등록**"
      ]
    },
    {
      "cell_type": "code",
      "metadata": {
        "id": "0ZCf8CZ0JnaB",
        "colab_type": "code",
        "colab": {}
      },
      "source": [
        "from firebase import firebase # firebase 라이브러리 불러오기\n",
        "url = 'https://gsmtest-b6366.firebaseio.com/' #\"2항에서 본인이 발급받은 url 입력\"\n",
        "fbase = firebase.FirebaseApplication(url, None) # 입력한 url로 열"
      ],
      "execution_count": 0,
      "outputs": []
    },
    {
      "cell_type": "markdown",
      "metadata": {
        "id": "0I85qm3FJ5Rq",
        "colab_type": "text"
      },
      "source": [
        "**5. Firebase에 데이터 입력하기(PUT)**\n",
        "  - PUT을 이용해 데이터를 업로드 한경우 수정이 불가능함."
      ]
    },
    {
      "cell_type": "code",
      "metadata": {
        "id": "L4YvGQLKKKZx",
        "colab_type": "code",
        "outputId": "4d2f7013-5ed2-4de5-d354-697d48909962",
        "colab": {
          "base_uri": "https://localhost:8080/",
          "height": 34
        }
      },
      "source": [
        "root_name = 'testData'\n",
        "data_key = 'Data1'\n",
        "data_dict = {'apple':'red', 'banana':'yellow', 'carrot':'orange'}\n",
        "fbase.put('/' + root_name, data_key, data_dict)\n",
        "\n",
        "data_dict['test'] = \"dd\"\n",
        "\n",
        "print(data_dict)\n",
        "# firebase -> 데이터베이스 -> 실시간데이터베이스 창에서 데이터가 정상적으로 들어오는지 확인 "
      ],
      "execution_count": 0,
      "outputs": [
        {
          "output_type": "stream",
          "text": [
            "{'apple': 'red', 'banana': 'yellow', 'carrot': 'orange', 'test': 'dd'}\n"
          ],
          "name": "stdout"
        }
      ]
    },
    {
      "cell_type": "markdown",
      "metadata": {
        "id": "LJZ1UTmoNEwf",
        "colab_type": "text"
      },
      "source": [
        "**6. Firebase에서 데이터 불러오기**"
      ]
    },
    {
      "cell_type": "code",
      "metadata": {
        "id": "OGzVWmJhNEFZ",
        "colab_type": "code",
        "outputId": "3df1d6e4-1aa1-4755-b6c7-551885c00980",
        "colab": {
          "base_uri": "https://localhost:8080/",
          "height": 34
        }
      },
      "source": [
        "root_name = 'testData'\n",
        "fbase.get('/'+ root_name, None)"
      ],
      "execution_count": 0,
      "outputs": [
        {
          "output_type": "execute_result",
          "data": {
            "text/plain": [
              "{'Data1': {'apple': 'red', 'banana': 'yellow', 'carrot': 'orange'}}"
            ]
          },
          "metadata": {
            "tags": []
          },
          "execution_count": 26
        }
      ]
    },
    {
      "cell_type": "markdown",
      "metadata": {
        "id": "2yTfltg-MeJy",
        "colab_type": "text"
      },
      "source": [
        "**7. 데이터 수정(PATCH)**\n",
        " - 참고로 put으로 등록한 데이터는 patch로 수정이 불가능함**"
      ]
    },
    {
      "cell_type": "code",
      "metadata": {
        "id": "yNPaA9mAMjhu",
        "colab_type": "code",
        "outputId": "13ec4319-3e9b-4086-81ed-63a20ac592a0",
        "colab": {
          "base_uri": "https://localhost:8080/",
          "height": 34
        }
      },
      "source": [
        "root_name = 'testData'\n",
        "fbase.patch('/'+ root_name ,{'carrot' : 'I hate APPLE'})"
      ],
      "execution_count": 0,
      "outputs": [
        {
          "output_type": "execute_result",
          "data": {
            "text/plain": [
              "{'carrot': 'I hate APPLE'}"
            ]
          },
          "metadata": {
            "tags": []
          },
          "execution_count": 33
        }
      ]
    },
    {
      "cell_type": "markdown",
      "metadata": {
        "id": "CqtKNvYeOtcO",
        "colab_type": "text"
      },
      "source": [
        "**7-1. 수정 결과 확인**"
      ]
    },
    {
      "cell_type": "code",
      "metadata": {
        "id": "NULL7kNUOxDB",
        "colab_type": "code",
        "outputId": "2fcf9760-2881-4acf-9d94-46724cefeb7f",
        "colab": {
          "base_uri": "https://localhost:8080/",
          "height": 52
        }
      },
      "source": [
        "print(\"수정 후 DATA:\", end = \"\")\n",
        "fbase.get('/'+ root_name, None)"
      ],
      "execution_count": 0,
      "outputs": [
        {
          "output_type": "stream",
          "text": [
            "수정 후 DATA:"
          ],
          "name": "stdout"
        },
        {
          "output_type": "execute_result",
          "data": {
            "text/plain": [
              "{'Data1': {'apple': 'red', 'banana': 'yellow', 'carrot': 'orange'},\n",
              " 'apple': 'I hatㅇㅇe APPLE'}"
            ]
          },
          "metadata": {
            "tags": []
          },
          "execution_count": 32
        }
      ]
    },
    {
      "cell_type": "markdown",
      "metadata": {
        "id": "xaJvcghtSRIm",
        "colab_type": "text"
      },
      "source": [
        "**8. Firebase 활용**"
      ]
    },
    {
      "cell_type": "markdown",
      "metadata": {
        "id": "Q2aQYOSnSjoc",
        "colab_type": "text"
      },
      "source": [
        "**8 - 1. 시-분-초 코드 생성함수 만들기**"
      ]
    },
    {
      "cell_type": "code",
      "metadata": {
        "id": "Cd0PqWV-SYGU",
        "colab_type": "code",
        "colab": {}
      },
      "source": [
        "def getDateValue():\n",
        "    now = time.localtime()\n",
        "    key = \"%04d%02d%02d%02d%02d%02d\" %(now.tm_year, now.tm_mon, now.tm_mday, now.tm_hour, now.tm_min, now.tm_sec)\n",
        "    return key"
      ],
      "execution_count": 0,
      "outputs": []
    },
    {
      "cell_type": "markdown",
      "metadata": {
        "id": "1d_n9egwSXgt",
        "colab_type": "text"
      },
      "source": [
        "**8 - 2. 3초별로 데이터 저장하기**"
      ]
    },
    {
      "cell_type": "code",
      "metadata": {
        "id": "WUxq-WwmZmFw",
        "colab_type": "code",
        "outputId": "fd65704f-501a-4e9f-d8d3-8b981ff087f5",
        "colab": {
          "base_uri": "https://localhost:8080/",
          "height": 361
        }
      },
      "source": [
        "from firebase import firebase # firebase 라이브러리 불러오기\n",
        "import time\n",
        "\n",
        "url = 'https://gsm-dustdata-2f7b8.firebaseio.com/' # 2항에서 본인이 발급받은 url 입력\n",
        "fbase = firebase.FirebaseApplication(url, None) # 입력한 url로 열\n",
        "\n",
        "while 1:\n",
        "  root_name = 'testDataset'\n",
        "  data_key = getDateValue()\n",
        "  data_dict = {'apple':'red', 'banana':'yellow', 'carrot':'orange'}\n",
        "  if((int(data_key[12:14])) % 5 == 0):\n",
        "    fbase.put('/' + root_name, data_key, data_dict)\n",
        "    print(\"데이터 입력 완료\")"
      ],
      "execution_count": 0,
      "outputs": [
        {
          "output_type": "error",
          "ename": "KeyboardInterrupt",
          "evalue": "ignored",
          "traceback": [
            "\u001b[0;31m---------------------------------------------------------------------------\u001b[0m",
            "\u001b[0;31mKeyboardInterrupt\u001b[0m                         Traceback (most recent call last)",
            "\u001b[0;32m<ipython-input-11-a26954287385>\u001b[0m in \u001b[0;36m<module>\u001b[0;34m()\u001b[0m\n\u001b[1;32m      7\u001b[0m \u001b[0;32mwhile\u001b[0m \u001b[0;36m1\u001b[0m\u001b[0;34m:\u001b[0m\u001b[0;34m\u001b[0m\u001b[0;34m\u001b[0m\u001b[0m\n\u001b[1;32m      8\u001b[0m   \u001b[0mroot_name\u001b[0m \u001b[0;34m=\u001b[0m \u001b[0;34m'testDataset'\u001b[0m\u001b[0;34m\u001b[0m\u001b[0;34m\u001b[0m\u001b[0m\n\u001b[0;32m----> 9\u001b[0;31m   \u001b[0mdata_key\u001b[0m \u001b[0;34m=\u001b[0m \u001b[0mgetDateValue\u001b[0m\u001b[0;34m(\u001b[0m\u001b[0;34m)\u001b[0m\u001b[0;34m\u001b[0m\u001b[0;34m\u001b[0m\u001b[0m\n\u001b[0m\u001b[1;32m     10\u001b[0m   \u001b[0mdata_dict\u001b[0m \u001b[0;34m=\u001b[0m \u001b[0;34m{\u001b[0m\u001b[0;34m'apple'\u001b[0m\u001b[0;34m:\u001b[0m\u001b[0;34m'red'\u001b[0m\u001b[0;34m,\u001b[0m \u001b[0;34m'banana'\u001b[0m\u001b[0;34m:\u001b[0m\u001b[0;34m'yellow'\u001b[0m\u001b[0;34m,\u001b[0m \u001b[0;34m'carrot'\u001b[0m\u001b[0;34m:\u001b[0m\u001b[0;34m'orange'\u001b[0m\u001b[0;34m}\u001b[0m\u001b[0;34m\u001b[0m\u001b[0;34m\u001b[0m\u001b[0m\n\u001b[1;32m     11\u001b[0m   \u001b[0;32mif\u001b[0m\u001b[0;34m(\u001b[0m\u001b[0;34m(\u001b[0m\u001b[0mint\u001b[0m\u001b[0;34m(\u001b[0m\u001b[0mdata_key\u001b[0m\u001b[0;34m[\u001b[0m\u001b[0;36m12\u001b[0m\u001b[0;34m:\u001b[0m\u001b[0;36m14\u001b[0m\u001b[0;34m]\u001b[0m\u001b[0;34m)\u001b[0m\u001b[0;34m)\u001b[0m \u001b[0;34m%\u001b[0m \u001b[0;36m5\u001b[0m \u001b[0;34m==\u001b[0m \u001b[0;36m0\u001b[0m\u001b[0;34m)\u001b[0m\u001b[0;34m:\u001b[0m\u001b[0;34m\u001b[0m\u001b[0;34m\u001b[0m\u001b[0m\n",
            "\u001b[0;32m<ipython-input-8-4c2c4760f6bc>\u001b[0m in \u001b[0;36mgetDateValue\u001b[0;34m()\u001b[0m\n\u001b[1;32m      1\u001b[0m \u001b[0;32mdef\u001b[0m \u001b[0mgetDateValue\u001b[0m\u001b[0;34m(\u001b[0m\u001b[0;34m)\u001b[0m\u001b[0;34m:\u001b[0m\u001b[0;34m\u001b[0m\u001b[0;34m\u001b[0m\u001b[0m\n\u001b[0;32m----> 2\u001b[0;31m     \u001b[0mnow\u001b[0m \u001b[0;34m=\u001b[0m \u001b[0mtime\u001b[0m\u001b[0;34m.\u001b[0m\u001b[0mlocaltime\u001b[0m\u001b[0;34m(\u001b[0m\u001b[0;34m)\u001b[0m\u001b[0;34m\u001b[0m\u001b[0;34m\u001b[0m\u001b[0m\n\u001b[0m\u001b[1;32m      3\u001b[0m     \u001b[0mkey\u001b[0m \u001b[0;34m=\u001b[0m \u001b[0;34m\"%04d%02d%02d%02d%02d%02d\"\u001b[0m \u001b[0;34m%\u001b[0m\u001b[0;34m(\u001b[0m\u001b[0mnow\u001b[0m\u001b[0;34m.\u001b[0m\u001b[0mtm_year\u001b[0m\u001b[0;34m,\u001b[0m \u001b[0mnow\u001b[0m\u001b[0;34m.\u001b[0m\u001b[0mtm_mon\u001b[0m\u001b[0;34m,\u001b[0m \u001b[0mnow\u001b[0m\u001b[0;34m.\u001b[0m\u001b[0mtm_mday\u001b[0m\u001b[0;34m,\u001b[0m \u001b[0mnow\u001b[0m\u001b[0;34m.\u001b[0m\u001b[0mtm_hour\u001b[0m\u001b[0;34m,\u001b[0m \u001b[0mnow\u001b[0m\u001b[0;34m.\u001b[0m\u001b[0mtm_min\u001b[0m\u001b[0;34m,\u001b[0m \u001b[0mnow\u001b[0m\u001b[0;34m.\u001b[0m\u001b[0mtm_sec\u001b[0m\u001b[0;34m)\u001b[0m\u001b[0;34m\u001b[0m\u001b[0;34m\u001b[0m\u001b[0m\n\u001b[1;32m      4\u001b[0m     \u001b[0;32mreturn\u001b[0m \u001b[0mkey\u001b[0m\u001b[0;34m\u001b[0m\u001b[0;34m\u001b[0m\u001b[0m\n",
            "\u001b[0;31mKeyboardInterrupt\u001b[0m: "
          ]
        }
      ]
    },
    {
      "cell_type": "markdown",
      "metadata": {
        "id": "qWjaGjGjbYf7",
        "colab_type": "text"
      },
      "source": [
        "**8 - 3. 결과 확인하기**"
      ]
    },
    {
      "cell_type": "code",
      "metadata": {
        "id": "2mMyaFxBbd5J",
        "colab_type": "code",
        "colab": {}
      },
      "source": [
        "root_name = 'testDataset'\n",
        "fbase.get('/'+ root_name, None)"
      ],
      "execution_count": 0,
      "outputs": []
    },
    {
      "cell_type": "markdown",
      "metadata": {
        "id": "rolgvuI2KGoh",
        "colab_type": "text"
      },
      "source": [
        ""
      ]
    }
  ]
}