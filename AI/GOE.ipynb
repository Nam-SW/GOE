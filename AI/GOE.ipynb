{
  "nbformat": 4,
  "nbformat_minor": 0,
  "metadata": {
    "colab": {
      "name": "GOE.ipynb",
      "provenance": [],
      "collapsed_sections": []
    },
    "kernelspec": {
      "name": "python3",
      "display_name": "Python 3"
    },
    "accelerator": "GPU"
  },
  "cells": [
    {
      "cell_type": "markdown",
      "metadata": {
        "id": "FHL2ANTEG-WH",
        "colab_type": "text"
      },
      "source": [
        "# GOE 모델 빌드 및 학습"
      ]
    },
    {
      "cell_type": "markdown",
      "metadata": {
        "id": "VLzciQhGsR2N",
        "colab_type": "text"
      },
      "source": [
        "데이터 불러오기"
      ]
    },
    {
      "cell_type": "code",
      "metadata": {
        "id": "y04pAbgOG8KW",
        "colab_type": "code",
        "outputId": "59054461-73c8-458c-c33e-bac622e2c182",
        "colab": {
          "base_uri": "https://localhost:8080/",
          "height": 35
        }
      },
      "source": [
        "from google.colab import drive\n",
        "from tensorflow.keras.models import load_model\n",
        "import numpy as np\n",
        "import time # 인풋데이터를 섞기 위한 랜덤시드를 위해!\n",
        "import pickle # 평균과 표준편차를 피클파일로 저장하기 위해!\n",
        "\n",
        "drive.mount('/content/gdrive')"
      ],
      "execution_count": 2,
      "outputs": [
        {
          "output_type": "stream",
          "text": [
            "Drive already mounted at /content/gdrive; to attempt to forcibly remount, call drive.mount(\"/content/gdrive\", force_remount=True).\n"
          ],
          "name": "stdout"
        }
      ]
    },
    {
      "cell_type": "markdown",
      "metadata": {
        "id": "hhGJjTuOs5sF",
        "colab_type": "text"
      },
      "source": [
        "데이터 로드"
      ]
    },
    {
      "cell_type": "code",
      "metadata": {
        "id": "SLfWq-6Cs47F",
        "colab_type": "code",
        "colab": {}
      },
      "source": [
        "class Data:\n",
        "    def __init__(self): # X는 생 파일 x는 전처리 이후 사용가능한 파일\n",
        "        X_train = np.load('/content/gdrive/My Drive/GOE/Xtrain.npy')\n",
        "        y_train = np.load('/content/gdrive/My Drive/GOE/Ytrain.npy')\n",
        "        X_test = np.load('/content/gdrive/My Drive/GOE/Xtest.npy')\n",
        "        y_test = np.load('/content/gdrive/My Drive/GOE/Ytest.npy')\n",
        "\n",
        "        np.random.seed(int(time.time()))\n",
        "\n",
        "        # 배열 섞기\n",
        "        s = np.arange(X_train.shape[0])\n",
        "        np.random.shuffle(s)\n",
        "        X_train = X_train[s]\n",
        "        y_train = y_train[s]\n",
        "\n",
        "        mean = X_train.mean(axis=0)\n",
        "        x_train = X_train - mean\n",
        "        std = x_train.std(axis=0)\n",
        "        x_train /= std\n",
        "\n",
        "        x_test = (X_test - mean) / std\n",
        "\n",
        "        with open('/content/gdrive/My Drive/GOE/mean.pickle', 'wb') as f:\n",
        "            pickle.dump(mean, f, pickle.HIGHEST_PROTOCOL)\n",
        "        with open('/content/gdrive/My Drive/GOE/std.pickle', 'wb') as f:\n",
        "            pickle.dump(std, f, pickle.HIGHEST_PROTOCOL)\n",
        "\n",
        "        self.mean = mean\n",
        "        self.std = std\n",
        "        self.x_train = x_train\n",
        "        self.y_train = y_train\n",
        "        self.x_test = x_test\n",
        "        self.y_test = y_test\n",
        "        self.x_shape = x_test.shape[1]\n",
        "        self.y_shape = y_test.shape[1]\n",
        "        self.X_train = X_train\n",
        "        self.X_test = X_test"
      ],
      "execution_count": 0,
      "outputs": []
    },
    {
      "cell_type": "markdown",
      "metadata": {
        "id": "D6XrWLPL-pqW",
        "colab_type": "text"
      },
      "source": [
        "학습 그래프 함수 정의"
      ]
    },
    {
      "cell_type": "code",
      "metadata": {
        "id": "W1K_kZpw-lrg",
        "colab_type": "code",
        "colab": {}
      },
      "source": [
        "import matplotlib.pyplot as plt\n",
        "\n",
        "def plot_graph(history, yname, title=None):\n",
        "    # summarize history for accuracy\n",
        "    if not isinstance(history, dict):\n",
        "        history = history.history\n",
        "\n",
        "    if yname == 'acc':\n",
        "        plt.plot(history['acc']) # 선 그리기\n",
        "        plt.plot(history['val_acc'])\n",
        "        plt.ylabel('Accuracy') # y축 이름 표시\n",
        "    else:\n",
        "        plt.plot(history['loss'])\n",
        "        plt.plot(history['val_loss'])\n",
        "        plt.ylabel('Loss') # y축 이름 표시\n",
        "        \n",
        "    if title is not None:\n",
        "        plt.title(title) # 그래프 제목 표시\n",
        "    \n",
        "    plt.xlabel('Epoch') # x축 이름 표시\n",
        "    plt.legend(['Training', 'Verification'], loc=0) # 각 라인의 표식 표시\n",
        "    plt.show()"
      ],
      "execution_count": 0,
      "outputs": []
    },
    {
      "cell_type": "markdown",
      "metadata": {
        "id": "sdHdDwCaEgx0",
        "colab_type": "text"
      },
      "source": [
        "모델 정의"
      ]
    },
    {
      "cell_type": "code",
      "metadata": {
        "id": "nA2J6SGz26cz",
        "colab_type": "code",
        "colab": {
          "base_uri": "https://localhost:8080/",
          "height": 35
        },
        "outputId": "529a6dbc-3c55-47a0-e367-d9f1e1404a47"
      },
      "source": [
        "import keras\n",
        "from keras import layers\n",
        "from keras.models import Sequential\n",
        "\n",
        "def build_model(input_size, output_size):\n",
        "    m = Sequential()\n",
        "    m.add(layers.Dense(16, activation='relu', input_shape=(input_size,)))\n",
        "    m.add(layers.Dense(64, activation='relu'))\n",
        "    m.add(layers.Dense(128, activation='relu'))\n",
        "    m.add(layers.Dropout(0.2))\n",
        "    m.add(layers.Dense(256, activation='relu'))\n",
        "    # m.add(layers.LSTM(256, input_shape=(input_size,)))\n",
        "\n",
        "\n",
        "    m.add(layers.Dense(output_size, activation='sigmoid'))\n",
        "    # m.add(layers.Dense(output_size, activation='relu'))\n",
        "\n",
        "    m.compile(loss='mse', optimizer='adam')\n",
        "\n",
        "    return m"
      ],
      "execution_count": 5,
      "outputs": [
        {
          "output_type": "stream",
          "text": [
            "Using TensorFlow backend.\n"
          ],
          "name": "stderr"
        }
      ]
    },
    {
      "cell_type": "markdown",
      "metadata": {
        "id": "DZYm-tLI6ecR",
        "colab_type": "text"
      },
      "source": [
        "K-겹 교차검증 기법"
      ]
    },
    {
      "cell_type": "code",
      "metadata": {
        "id": "ohyX38FX6qZl",
        "colab_type": "code",
        "colab": {}
      },
      "source": [
        "from math import ceil\n",
        "\n",
        "class K_Fold_Cross():\n",
        "    def __init__(self, K=5):\n",
        "        self.data = Data()\n",
        "        self.models = [build_model(self.data.x_shape, self.data.y_shape) for _ in range(K)]\n",
        "        print(self.models)\n",
        "        self.K = K\n",
        "\n",
        "    def run(self):\n",
        "        data = self.data\n",
        "        K = self.K\n",
        "        split_ratio = len(data.x_train) // K\n",
        "        performance_list = []\n",
        "        models = self.models\n",
        "        loss_list = []\n",
        "        val_loss_list = []\n",
        "\n",
        "        for i in range(K):\n",
        "            print('train', i+1)\n",
        "            x_train = np.array(list(data.x_train[ : i*split_ratio]) + list(data.x_train[(i+1)*split_ratio : ]))\n",
        "            x_verification = data.x_train[i*split_ratio : (i+1)*split_ratio]\n",
        "\n",
        "            y_train = np.array(list(data.y_train[ : i*split_ratio]) + list(data.y_train[(i+1)*split_ratio : ]))\n",
        "            y_verification = data.y_train[i*split_ratio : (i+1)*split_ratio]\n",
        "\n",
        "            history = models[i].fit(x_train, y_train, epochs=30, batch_size=5, verbose=0, validation_data=(x_verification, y_verification))\n",
        "\n",
        "            performance_list.append(models[i].evaluate(data.x_test, data.y_test, batch_size=5))\n",
        "            if not isinstance(history, dict):\n",
        "                loss_list.append(np.array(history.history['loss']))\n",
        "                val_loss_list.append(np.array(history.history['val_loss']))\n",
        "\n",
        "        loss = np.zeros(loss_list[0].shape)\n",
        "        val_loss = np.zeros(val_loss_list[0].shape)\n",
        "\n",
        "        for l, vl in zip(loss_list, val_loss_list):\n",
        "            loss += l\n",
        "            val_loss += vl\n",
        "\n",
        "        self.loss = loss / K\n",
        "        self.val_loss = val_loss / K\n",
        "        self.performance = sum(performance_list) / K\n",
        "        self.models = models\n",
        "\n",
        "        print('\\nTest Loss -> {:.2f}'.format(self.performance))\n",
        "\n",
        "    def preprocessing(self, input_data):\n",
        "        return (np.array(input_data) - self.data.mean) / self.data.std\n",
        "\n",
        "    def predict(self, input_data):\n",
        "        preprocessed_data = self.preprocessing(input_data)\n",
        "        predict_list = []\n",
        "\n",
        "        for i in range(self.K):\n",
        "            pred = self.models[i].predict(preprocessed_data)\n",
        "            predict_list.append(np.array([list(map(lambda x:1 if x >= 0.5 else 0, p)) for p in pred]))\n",
        "        \n",
        "        predict_sum = np.zeros(predict_list[0].shape)\n",
        "        # list(map(lambda x:1 if x >= ceil(self.K / 2) else 0, pl)) for pl in predict_list\n",
        "        for pred in predict_list:\n",
        "            predict_sum += pred\n",
        "        \n",
        "        return [list(map(lambda x:1 if x >= ceil(self.K / 2) else 0, pred)) for pred in predict_sum]\n",
        "    \n",
        "    def save(self, link='/content/gdrive/My Drive/GOE/k_cross/'):\n",
        "        for i in range(self.K):\n",
        "            self.models[i].save(link + 'k_cross_model' + str(i+1) + '.h5')"
      ],
      "execution_count": 0,
      "outputs": []
    },
    {
      "cell_type": "markdown",
      "metadata": {
        "id": "YPYKaM_c-g5Q",
        "colab_type": "text"
      },
      "source": [
        "실행"
      ]
    },
    {
      "cell_type": "code",
      "metadata": {
        "id": "DIHfDjA8EfsI",
        "colab_type": "code",
        "outputId": "33e1f38c-d17d-48d1-f099-568db407e14d",
        "colab": {
          "base_uri": "https://localhost:8080/",
          "height": 431
        }
      },
      "source": [
        "data = Data()\n",
        "model = build_model(data.x_shape, data.y_shape)\n",
        "model.summary()\n",
        "history = model.fit(data.x_train, data.y_train, epochs=30, batch_size=5, validation_split=0.2, verbose=0)\n",
        "\n",
        "performance_test = model.evaluate(data.x_test, data.y_test, batch_size=5)\n",
        "print('\\nTest Loss -> {:.2f}'.format(performance_test))\n",
        "\n",
        "if not isinstance(history, dict):\n",
        "    history = history.history"
      ],
      "execution_count": 19,
      "outputs": [
        {
          "output_type": "stream",
          "text": [
            "Model: \"sequential_5\"\n",
            "_________________________________________________________________\n",
            "Layer (type)                 Output Shape              Param #   \n",
            "=================================================================\n",
            "dense_21 (Dense)             (None, 16)                80        \n",
            "_________________________________________________________________\n",
            "dense_22 (Dense)             (None, 64)                1088      \n",
            "_________________________________________________________________\n",
            "dense_23 (Dense)             (None, 128)               8320      \n",
            "_________________________________________________________________\n",
            "dropout_5 (Dropout)          (None, 128)               0         \n",
            "_________________________________________________________________\n",
            "dense_24 (Dense)             (None, 256)               33024     \n",
            "_________________________________________________________________\n",
            "dense_25 (Dense)             (None, 96)                24672     \n",
            "=================================================================\n",
            "Total params: 67,184\n",
            "Trainable params: 67,184\n",
            "Non-trainable params: 0\n",
            "_________________________________________________________________\n",
            "30/30 [==============================] - 0s 536us/step\n",
            "\n",
            "Test Loss -> 0.01\n"
          ],
          "name": "stdout"
        }
      ]
    },
    {
      "cell_type": "markdown",
      "metadata": {
        "id": "X-9vVYo3f3wQ",
        "colab_type": "text"
      },
      "source": [
        "K - 겹 교차검증 모델 실행"
      ]
    },
    {
      "cell_type": "code",
      "metadata": {
        "id": "tteWhIRhFB4z",
        "colab_type": "code",
        "outputId": "9e18a5ea-4d9f-4987-fb88-e59fe670e57d",
        "colab": {
          "base_uri": "https://localhost:8080/",
          "height": 271
        }
      },
      "source": [
        "k_cross = K_Fold_Cross()\n",
        "k_cross.run()"
      ],
      "execution_count": 66,
      "outputs": [
        {
          "output_type": "stream",
          "text": [
            "[<keras.engine.sequential.Sequential object at 0x7fb74116da90>, <keras.engine.sequential.Sequential object at 0x7fb7400defd0>, <keras.engine.sequential.Sequential object at 0x7fb74005ada0>, <keras.engine.sequential.Sequential object at 0x7fb73dffecc0>, <keras.engine.sequential.Sequential object at 0x7fb73df5b860>]\n",
            "train 1\n",
            "30/30 [==============================] - 0s 678us/step\n",
            "train 2\n",
            "30/30 [==============================] - 0s 683us/step\n",
            "train 3\n",
            "30/30 [==============================] - 0s 590us/step\n",
            "train 4\n",
            "30/30 [==============================] - 0s 583us/step\n",
            "train 5\n",
            "30/30 [==============================] - 0s 706us/step\n",
            "\n",
            "Test Loss -> 0.01\n"
          ],
          "name": "stdout"
        }
      ]
    },
    {
      "cell_type": "markdown",
      "metadata": {
        "id": "mQP1-G6l-s0E",
        "colab_type": "text"
      },
      "source": [
        "그래프 그리기"
      ]
    },
    {
      "cell_type": "code",
      "metadata": {
        "id": "p7OXS755lxv_",
        "colab_type": "code",
        "colab": {
          "base_uri": "https://localhost:8080/",
          "height": 279
        },
        "outputId": "a1092fc0-3435-42c8-899b-63d48f1080d7"
      },
      "source": [
        "plot_graph(history, 'loss')"
      ],
      "execution_count": 35,
      "outputs": [
        {
          "output_type": "display_data",
          "data": {
            "image/png": "[encoded data removed]",
            "text/plain": [
              "<Figure size 432x288 with 1 Axes>"
            ]
          },
          "metadata": {
            "tags": []
          }
        }
      ]
    },
    {
      "cell_type": "code",
      "metadata": {
        "id": "ewSzscTRgJ43",
        "colab_type": "code",
        "outputId": "1aa68c8b-de1e-4008-b974-0b9975811dd3",
        "colab": {
          "base_uri": "https://localhost:8080/",
          "height": 279
        }
      },
      "source": [
        "plt.plot(k_cross.loss)\n",
        "plt.plot(k_cross.val_loss)\n",
        "plt.ylabel('Loss') # y축 이름 표시\n",
        "plt.xlabel('Epoch') # x축 이름 표시\n",
        "plt.legend(['Training', 'Verification'], loc=0) # 각 라인의 표식 표시\n",
        "plt.show()"
      ],
      "execution_count": 67,
      "outputs": [
        {
          "output_type": "display_data",
          "data": {
            "image/png": "[encoded data removed]",
            "text/plain": [
              "<Figure size 432x288 with 1 Axes>"
            ]
          },
          "metadata": {
            "tags": []
          }
        }
      ]
    },
    {
      "cell_type": "markdown",
      "metadata": {
        "id": "0MPYR8wr-uIM",
        "colab_type": "text"
      },
      "source": [
        "학습된 모델로 예측"
      ]
    },
    {
      "cell_type": "code",
      "metadata": {
        "id": "Lzgzk898XjZ6",
        "colab_type": "code",
        "outputId": "c0328015-f29e-4092-c8ad-71e457ec6b8b",
        "colab": {
          "base_uri": "https://localhost:8080/",
          "height": 557
        }
      },
      "source": [
        "s = np.arange(data.x_train.shape[0])\n",
        "np.random.shuffle(s)\n",
        "\n",
        "raw_d = data.X_train[s[:10]]\n",
        "d = data.x_train[s[:10]]\n",
        "# print(raw_d)\n",
        "\n",
        "pred = k_cross.predict(raw_d)\n",
        "for i, p in enumerate(pred):\n",
        "    print(raw_d[i])\n",
        "    print(p[:48])\n",
        "    print(p[48:])"
      ],
      "execution_count": 68,
      "outputs": [
        {
          "output_type": "stream",
          "text": [
            "[ 5.  1. 17.  1.]\n",
            "[0, 0, 0, 0, 0, 0, 0, 0, 0, 0, 0, 0, 0, 0, 0, 0, 0, 0, 0, 0, 0, 0, 0, 0, 0, 0, 0, 0, 0, 0, 0, 0, 0, 0, 0, 0, 0, 0, 0, 0, 0, 0, 0, 0, 0, 0, 0, 0]\n",
            "[1, 1, 1, 1, 1, 1, 1, 1, 1, 1, 1, 1, 1, 1, 1, 1, 1, 1, 1, 1, 1, 1, 1, 1, 1, 1, 1, 1, 1, 1, 1, 1, 1, 1, 1, 1, 1, 1, 1, 1, 1, 1, 1, 1, 1, 1, 1, 1]\n",
            "[ 4.   3.  17.8  3. ]\n",
            "[0, 0, 0, 0, 0, 0, 0, 0, 0, 0, 0, 0, 0, 0, 0, 0, 0, 0, 0, 0, 0, 0, 0, 0, 0, 0, 0, 0, 0, 0, 0, 0, 0, 0, 0, 0, 0, 0, 0, 0, 0, 0, 0, 0, 0, 0, 0, 0]\n",
            "[1, 1, 1, 1, 1, 1, 1, 1, 1, 1, 1, 1, 1, 1, 1, 1, 1, 1, 1, 1, 1, 1, 1, 1, 1, 1, 1, 1, 1, 1, 1, 1, 1, 1, 1, 1, 1, 1, 1, 1, 1, 1, 1, 1, 1, 1, 1, 1]\n",
            "[12.   2.  11.5  3. ]\n",
            "[0, 0, 0, 0, 0, 0, 0, 0, 0, 0, 0, 0, 0, 0, 0, 0, 0, 0, 0, 0, 0, 0, 0, 0, 0, 0, 0, 0, 0, 0, 0, 0, 0, 0, 0, 0, 0, 0, 0, 0, 0, 0, 0, 0, 0, 0, 0, 0]\n",
            "[1, 1, 1, 1, 1, 1, 1, 1, 1, 1, 1, 1, 1, 1, 1, 1, 1, 1, 1, 1, 1, 1, 1, 1, 1, 1, 1, 1, 1, 1, 1, 1, 1, 1, 1, 1, 1, 1, 1, 1, 1, 1, 1, 1, 1, 1, 1, 1]\n",
            "[ 3.  2. 11.  2.]\n",
            "[0, 0, 0, 0, 0, 0, 0, 0, 0, 0, 0, 0, 0, 0, 0, 0, 0, 0, 0, 0, 0, 0, 0, 0, 0, 0, 0, 0, 0, 0, 0, 0, 0, 0, 0, 0, 0, 0, 0, 0, 0, 0, 0, 0, 0, 0, 0, 0]\n",
            "[1, 1, 1, 1, 1, 1, 1, 1, 1, 1, 1, 1, 1, 1, 1, 1, 1, 1, 1, 1, 1, 1, 1, 1, 1, 1, 1, 1, 1, 1, 1, 1, 1, 1, 1, 1, 1, 1, 1, 1, 1, 1, 1, 1, 1, 1, 1, 1]\n",
            "[10.   4.  12.4  2. ]\n",
            "[0, 0, 0, 0, 0, 0, 0, 0, 0, 0, 0, 0, 0, 0, 0, 0, 0, 0, 0, 0, 0, 0, 0, 0, 0, 0, 0, 0, 0, 0, 0, 0, 0, 0, 0, 0, 0, 0, 0, 0, 0, 0, 0, 0, 0, 0, 0, 0]\n",
            "[1, 1, 1, 1, 1, 1, 1, 1, 1, 1, 1, 1, 1, 1, 1, 1, 1, 1, 1, 1, 1, 1, 1, 1, 1, 1, 1, 1, 1, 1, 1, 1, 1, 1, 1, 1, 1, 1, 1, 1, 1, 1, 1, 1, 1, 1, 1, 1]\n",
            "[ 5.   4.  15.1  3. ]\n",
            "[0, 0, 0, 0, 0, 0, 0, 0, 0, 0, 0, 0, 0, 0, 0, 0, 0, 0, 0, 0, 0, 0, 0, 0, 0, 0, 0, 0, 0, 0, 0, 0, 0, 0, 0, 0, 0, 0, 0, 0, 0, 0, 0, 0, 0, 0, 0, 0]\n",
            "[1, 1, 1, 1, 1, 1, 1, 1, 1, 1, 1, 1, 1, 1, 1, 1, 1, 1, 1, 1, 1, 1, 1, 1, 1, 1, 1, 1, 1, 1, 1, 1, 1, 1, 1, 1, 1, 1, 1, 1, 1, 1, 1, 1, 1, 1, 1, 1]\n",
            "[ 4.   7.  15.4  2. ]\n",
            "[0, 0, 0, 0, 0, 0, 0, 0, 0, 0, 0, 0, 0, 0, 0, 0, 0, 0, 0, 0, 0, 0, 0, 0, 0, 0, 0, 0, 0, 0, 0, 0, 0, 0, 0, 0, 0, 0, 0, 0, 0, 0, 0, 0, 0, 0, 0, 0]\n",
            "[1, 1, 1, 1, 1, 1, 1, 1, 1, 1, 1, 1, 1, 1, 1, 1, 1, 1, 1, 1, 1, 1, 1, 1, 1, 1, 1, 1, 1, 1, 1, 1, 1, 1, 1, 1, 1, 1, 1, 1, 1, 1, 1, 1, 1, 1, 1, 1]\n",
            "[ 2.   6.  -2.4  1. ]\n",
            "[0, 0, 0, 0, 0, 0, 0, 0, 0, 0, 0, 0, 0, 0, 0, 0, 0, 0, 0, 0, 0, 0, 0, 0, 0, 0, 0, 0, 0, 0, 0, 0, 0, 0, 0, 0, 0, 0, 0, 0, 0, 0, 0, 0, 0, 0, 0, 0]\n",
            "[1, 1, 1, 1, 1, 1, 1, 1, 1, 1, 1, 1, 1, 1, 1, 1, 1, 1, 1, 1, 1, 1, 1, 1, 1, 1, 1, 1, 1, 1, 1, 1, 1, 1, 1, 1, 1, 1, 1, 1, 1, 1, 1, 1, 1, 1, 1, 1]\n",
            "[ 4.   3.  12.9  1. ]\n",
            "[0, 0, 0, 0, 0, 0, 0, 0, 0, 0, 0, 0, 0, 0, 0, 0, 0, 0, 0, 0, 0, 0, 0, 0, 0, 0, 0, 0, 0, 0, 0, 0, 0, 0, 0, 0, 0, 0, 0, 0, 0, 0, 0, 0, 0, 0, 0, 0]\n",
            "[1, 1, 1, 1, 1, 1, 1, 1, 1, 1, 1, 1, 1, 1, 1, 1, 1, 1, 1, 1, 1, 1, 1, 1, 1, 1, 1, 1, 1, 1, 1, 1, 1, 1, 1, 1, 1, 1, 1, 1, 1, 1, 1, 1, 1, 1, 1, 1]\n",
            "[ 3.  4. 14.  2.]\n",
            "[0, 0, 0, 0, 0, 0, 0, 0, 0, 0, 0, 0, 0, 0, 0, 0, 0, 0, 0, 0, 0, 0, 0, 0, 0, 0, 0, 0, 0, 0, 0, 0, 0, 0, 0, 0, 0, 0, 0, 0, 0, 0, 0, 0, 0, 0, 0, 0]\n",
            "[1, 1, 1, 1, 1, 1, 1, 1, 1, 1, 1, 1, 1, 1, 1, 1, 1, 1, 1, 1, 1, 1, 1, 1, 1, 1, 1, 1, 1, 1, 1, 1, 1, 1, 1, 1, 1, 1, 1, 1, 1, 1, 1, 1, 1, 1, 1, 1]\n"
          ],
          "name": "stdout"
        }
      ]
    },
    {
      "cell_type": "code",
      "metadata": {
        "id": "6c7RsSS0WwXB",
        "colab_type": "code",
        "colab": {
          "base_uri": "https://localhost:8080/",
          "height": 557
        },
        "outputId": "9f791bc2-8a1e-43f6-9753-4293b5cf5a22"
      },
      "source": [
        "pred = model.predict(d)\n",
        "for i, p in enumerate(pred):\n",
        "    print(raw_d[i])\n",
        "    p = list(map(lambda x:1 if x >= 0.5 else 0, p))\n",
        "    print(p[:48])\n",
        "    print(p[48:])"
      ],
      "execution_count": 48,
      "outputs": [
        {
          "output_type": "stream",
          "text": [
            "[12.   6.   5.6  2. ]\n",
            "[0, 0, 0, 0, 0, 0, 0, 0, 0, 0, 0, 0, 0, 0, 0, 0, 0, 0, 0, 0, 0, 0, 0, 0, 0, 0, 0, 0, 0, 0, 0, 0, 0, 0, 0, 0, 0, 0, 0, 0, 0, 0, 0, 0, 0, 0, 0, 0]\n",
            "[1, 1, 1, 1, 1, 1, 1, 1, 1, 1, 1, 1, 1, 1, 1, 1, 1, 1, 1, 1, 1, 1, 1, 1, 1, 1, 1, 1, 1, 1, 1, 1, 1, 1, 1, 1, 1, 1, 1, 1, 1, 1, 1, 1, 1, 1, 1, 1]\n",
            "[ 9.   2.  17.6  1. ]\n",
            "[0, 0, 0, 0, 0, 0, 0, 0, 0, 0, 0, 0, 0, 0, 0, 0, 0, 0, 0, 0, 0, 0, 0, 0, 0, 0, 0, 0, 0, 0, 0, 0, 0, 0, 0, 0, 0, 0, 0, 0, 0, 0, 0, 0, 0, 0, 0, 0]\n",
            "[1, 1, 1, 1, 1, 1, 1, 1, 1, 1, 1, 1, 1, 1, 1, 1, 1, 1, 1, 1, 1, 1, 1, 1, 1, 1, 1, 1, 1, 1, 1, 1, 1, 1, 1, 1, 1, 1, 1, 1, 1, 1, 1, 1, 1, 1, 1, 1]\n",
            "[11.   7.  11.9  3. ]\n",
            "[0, 0, 0, 0, 0, 0, 0, 0, 0, 0, 0, 0, 0, 0, 0, 0, 0, 0, 0, 0, 0, 0, 0, 0, 0, 0, 0, 0, 0, 0, 0, 0, 0, 0, 0, 0, 0, 0, 0, 0, 0, 0, 0, 0, 0, 0, 0, 0]\n",
            "[1, 1, 1, 1, 1, 1, 1, 1, 1, 1, 1, 1, 1, 1, 1, 1, 1, 1, 1, 1, 1, 1, 1, 1, 1, 1, 1, 1, 1, 1, 1, 1, 1, 1, 1, 1, 1, 1, 1, 1, 1, 1, 1, 1, 1, 1, 1, 1]\n",
            "[3. 2. 8. 2.]\n",
            "[0, 0, 0, 0, 0, 0, 0, 0, 0, 0, 0, 0, 0, 0, 0, 0, 0, 0, 0, 0, 0, 0, 0, 0, 0, 0, 0, 0, 0, 0, 0, 0, 0, 0, 0, 0, 0, 0, 0, 0, 0, 0, 0, 0, 0, 0, 0, 0]\n",
            "[1, 1, 1, 1, 1, 1, 1, 1, 1, 1, 1, 1, 1, 1, 1, 1, 1, 1, 1, 1, 1, 1, 1, 1, 1, 1, 1, 1, 1, 1, 1, 1, 1, 1, 1, 1, 1, 1, 1, 1, 1, 1, 1, 1, 1, 1, 1, 1]\n",
            "[ 9.   3.  23.2  2. ]\n",
            "[0, 0, 0, 0, 0, 0, 0, 0, 0, 0, 0, 0, 0, 0, 0, 0, 0, 0, 0, 0, 0, 0, 0, 0, 0, 0, 0, 0, 0, 0, 0, 0, 0, 0, 0, 0, 0, 0, 0, 0, 0, 0, 0, 0, 0, 0, 0, 0]\n",
            "[1, 1, 1, 1, 1, 1, 1, 1, 1, 1, 1, 1, 1, 1, 1, 1, 1, 1, 1, 1, 1, 1, 1, 1, 1, 1, 1, 1, 1, 1, 1, 1, 1, 1, 1, 1, 1, 1, 1, 1, 1, 1, 1, 1, 1, 1, 1, 1]\n",
            "[ 1.   1.  -6.3  1. ]\n",
            "[0, 0, 0, 0, 0, 0, 0, 0, 0, 0, 0, 0, 0, 0, 0, 0, 0, 0, 0, 0, 0, 0, 0, 0, 0, 0, 0, 0, 0, 0, 0, 0, 0, 0, 0, 0, 0, 0, 0, 0, 0, 0, 0, 0, 0, 0, 0, 0]\n",
            "[1, 1, 1, 1, 1, 1, 1, 1, 1, 1, 1, 1, 1, 1, 1, 1, 1, 1, 1, 1, 1, 1, 1, 1, 1, 1, 1, 1, 1, 1, 1, 1, 1, 1, 1, 1, 1, 1, 1, 1, 1, 1, 1, 1, 1, 1, 1, 1]\n",
            "[ 8.   7.  31.1  1. ]\n",
            "[0, 0, 0, 0, 1, 0, 0, 0, 0, 0, 0, 0, 0, 0, 0, 0, 0, 0, 0, 0, 0, 0, 0, 0, 0, 0, 1, 1, 0, 0, 1, 1, 0, 0, 1, 0, 0, 0, 1, 1, 0, 0, 0, 0, 0, 0, 0, 0]\n",
            "[1, 1, 1, 1, 1, 1, 1, 1, 1, 1, 1, 1, 1, 1, 1, 1, 1, 1, 1, 1, 1, 1, 1, 1, 1, 1, 1, 1, 1, 1, 1, 1, 1, 1, 1, 1, 1, 1, 1, 1, 1, 1, 1, 1, 1, 1, 1, 1]\n",
            "[11.   1.   4.8  2. ]\n",
            "[0, 0, 0, 0, 0, 0, 0, 0, 0, 0, 0, 0, 0, 0, 0, 0, 0, 0, 0, 0, 0, 0, 0, 0, 0, 0, 0, 0, 0, 0, 0, 0, 0, 0, 0, 0, 0, 0, 0, 0, 0, 0, 0, 0, 0, 0, 0, 0]\n",
            "[1, 1, 1, 1, 1, 1, 1, 1, 1, 1, 1, 1, 1, 1, 1, 1, 1, 1, 1, 1, 1, 1, 1, 1, 1, 1, 1, 1, 1, 1, 1, 1, 1, 1, 1, 1, 1, 1, 1, 1, 1, 1, 1, 1, 1, 1, 1, 1]\n",
            "[ 7.   6.  29.5  2. ]\n",
            "[0, 0, 0, 0, 1, 0, 0, 0, 0, 0, 0, 0, 0, 0, 0, 0, 0, 0, 0, 0, 0, 0, 0, 0, 0, 0, 0, 1, 1, 0, 0, 0, 0, 0, 1, 1, 1, 0, 0, 1, 0, 0, 0, 0, 0, 0, 0, 0]\n",
            "[1, 1, 1, 1, 1, 1, 1, 1, 1, 1, 1, 1, 1, 1, 1, 1, 1, 1, 1, 1, 1, 1, 1, 1, 1, 1, 1, 1, 1, 1, 1, 1, 1, 1, 1, 1, 1, 1, 1, 1, 1, 1, 1, 1, 1, 1, 1, 1]\n",
            "[ 5.   3.  20.4  3. ]\n",
            "[0, 0, 0, 0, 0, 0, 0, 0, 0, 0, 0, 0, 0, 0, 0, 0, 0, 0, 0, 0, 0, 0, 0, 0, 0, 0, 0, 0, 0, 0, 0, 0, 0, 0, 0, 0, 0, 0, 0, 0, 0, 0, 0, 0, 0, 0, 0, 0]\n",
            "[1, 1, 1, 1, 1, 1, 1, 1, 1, 1, 1, 1, 1, 1, 1, 1, 1, 1, 1, 1, 1, 1, 1, 1, 1, 1, 1, 1, 1, 1, 1, 1, 1, 1, 1, 1, 1, 1, 1, 1, 1, 1, 1, 1, 1, 1, 1, 1]\n"
          ],
          "name": "stdout"
        }
      ]
    },
    {
      "cell_type": "markdown",
      "metadata": {
        "id": "gUZaMBmQ0eqy",
        "colab_type": "text"
      },
      "source": [
        "모델 저장"
      ]
    },
    {
      "cell_type": "code",
      "metadata": {
        "id": "0LKBQy4n0dpQ",
        "colab_type": "code",
        "colab": {}
      },
      "source": [
        "model.save('/content/gdrive/My Drive/GOE/model.h5')\n",
        "k_cross.save()"
      ],
      "execution_count": 0,
      "outputs": []
    }
  ]
}