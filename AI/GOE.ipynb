{
  "nbformat": 4,
  "nbformat_minor": 0,
  "metadata": {
    "colab": {
      "name": "GOE.ipynb",
      "provenance": [],
      "collapsed_sections": [],
      "include_colab_link": true
    },
    "kernelspec": {
      "name": "python3",
      "display_name": "Python 3"
    },
    "accelerator": "GPU"
  },
  "cells": [
    {
      "cell_type": "markdown",
      "metadata": {
        "id": "view-in-github",
        "colab_type": "text"
      },
      "source": [
        "<a href=\"https://colab.research.google.com/github/Nam-SW/GOE/blob/master/AI/GOE.ipynb\" target=\"_parent\"><img src=\"https://colab.research.google.com/assets/colab-badge.svg\" alt=\"Open In Colab\"/></a>"
      ]
    },
    {
      "cell_type": "markdown",
      "metadata": {
        "id": "FHL2ANTEG-WH",
        "colab_type": "text"
      },
      "source": [
        "# GOE 모델 만들거시다"
      ]
    },
    {
      "cell_type": "markdown",
      "metadata": {
        "id": "VLzciQhGsR2N",
        "colab_type": "text"
      },
      "source": [
        "데이터 불러오기"
      ]
    },
    {
      "cell_type": "code",
      "metadata": {
        "id": "y04pAbgOG8KW",
        "colab_type": "code",
        "outputId": "69fbf429-ac6e-4ea3-d7d7-72c9504c9e92",
        "colab": {
          "base_uri": "https://localhost:8080/",
          "height": 174
        }
      },
      "source": [
        "from google.colab import drive\n",
        "from tensorflow.keras.models import load_model\n",
        "import numpy as np\n",
        "import time # 인풋데이터를 섞기 위한 랜덤시드를 위해!\n",
        "\n",
        "drive.mount('/content/gdrive')"
      ],
      "execution_count": 0,
      "outputs": [
        {
          "output_type": "display_data",
          "data": {
            "text/html": [
              "<p style=\"color: red;\">\n",
              "The default version of TensorFlow in Colab will soon switch to TensorFlow 2.x.<br>\n",
              "We recommend you <a href=\"https://www.tensorflow.org/guide/migrate\" target=\"_blank\">upgrade</a> now \n",
              "or ensure your notebook will continue to use TensorFlow 1.x via the <code>%tensorflow_version 1.x</code> magic:\n",
              "<a href=\"https://colab.research.google.com/notebooks/tensorflow_version.ipynb\" target=\"_blank\">more info</a>.</p>\n"
            ],
            "text/plain": [
              "<IPython.core.display.HTML object>"
            ]
          },
          "metadata": {
            "tags": []
          }
        },
        {
          "output_type": "stream",
          "text": [
            "Go to this URL in a browser: https://accounts.google.com/o/oauth2/auth?client_id=947318989803-6bn6qk8qdgf4n4g3pfee6491hc0brc4i.apps.googleusercontent.com&redirect_uri=urn%3aietf%3awg%3aoauth%3a2.0%3aoob&response_type=code&scope=email%20https%3a%2f%2fwww.googleapis.com%2fauth%2fdocs.test%20https%3a%2f%2fwww.googleapis.com%2fauth%2fdrive%20https%3a%2f%2fwww.googleapis.com%2fauth%2fdrive.photos.readonly%20https%3a%2f%2fwww.googleapis.com%2fauth%2fpeopleapi.readonly\n",
            "\n",
            "Enter your authorization code:\n",
            "··········\n",
            "Mounted at /content/gdrive\n"
          ],
          "name": "stdout"
        }
      ]
    },
    {
      "cell_type": "markdown",
      "metadata": {
        "id": "hhGJjTuOs5sF",
        "colab_type": "text"
      },
      "source": [
        "데이터 로드"
      ]
    },
    {
      "cell_type": "code",
      "metadata": {
        "id": "SLfWq-6Cs47F",
        "colab_type": "code",
        "colab": {}
      },
      "source": [
        "class m1_data:\n",
        "    def __init__(self): # 검증셋 만들어야함\n",
        "        x_train = np.load('/content/gdrive/My Drive/GOE/m1_Xtrain.npy')\n",
        "        y_train = np.load('/content/gdrive/My Drive/GOE/m1_Ytrain.npy')\n",
        "        x_test = np.load('/content/gdrive/My Drive/GOE/m1_Xtest.npy')\n",
        "        y_test = np.load('/content/gdrive/My Drive/GOE/m1_Ytest.npy')\n",
        "\n",
        "        np.random.seed(int(time.time()))\n",
        "\n",
        "        # 배열 섞기\n",
        "        # permutation = np.random.permutation(y_train.shape[0])\n",
        "        # x_train = x_train[permutation, :]\n",
        "        # y_train = y_train[permutation]\n",
        "        s = np.arange(x_train.shape[0])\n",
        "        np.random.shuffle(s)\n",
        "        x_train = x_train[s]\n",
        "        y_train = y_train[s]\n",
        "\n",
        "        # s = np.arange(x_test.shape[0])\n",
        "        # np.random.shuffle(s)\n",
        "        # x_test = x_test[s]\n",
        "        # y_test = y_test[s]\n",
        "\n",
        "        self.x_train = x_train\n",
        "        self.y_train = y_train\n",
        "        self.x_test = x_test\n",
        "        self.y_test = y_test\n",
        "        self.x_shape = x_test.shape[1]\n",
        "        self.y_shape = y_test.shape[1]"
      ],
      "execution_count": 0,
      "outputs": []
    },
    {
      "cell_type": "markdown",
      "metadata": {
        "id": "D6XrWLPL-pqW",
        "colab_type": "text"
      },
      "source": [
        "학습 그래프 함수 정의"
      ]
    },
    {
      "cell_type": "code",
      "metadata": {
        "id": "W1K_kZpw-lrg",
        "colab_type": "code",
        "colab": {}
      },
      "source": [
        "import matplotlib.pyplot as plt\n",
        "\n",
        "def plot_graph(history, yname, title=None):\n",
        "    # summarize history for accuracy\n",
        "    if not isinstance(history, dict):\n",
        "        history = history.history\n",
        "\n",
        "    if yname == 'acc':\n",
        "        plt.plot(history['acc']) # 선 그리기\n",
        "        plt.plot(history['val_acc'])\n",
        "        plt.ylabel('Accuracy') # y축 이름 표시\n",
        "    else:\n",
        "        plt.plot(history['loss'])\n",
        "        plt.plot(history['val_loss'])\n",
        "        plt.ylabel('Loss') # y축 이름 표시\n",
        "        \n",
        "    if title is not None:\n",
        "        plt.title(title) # 그래프 제목 표시\n",
        "    \n",
        "    plt.xlabel('Epoch') # x축 이름 표시\n",
        "    plt.legend(['Training', 'Verification'], loc=0) # 각 라인의 표식 표시\n",
        "    plt.show()"
      ],
      "execution_count": 0,
      "outputs": []
    },
    {
      "cell_type": "markdown",
      "metadata": {
        "id": "sdHdDwCaEgx0",
        "colab_type": "text"
      },
      "source": [
        "모델 정의"
      ]
    },
    {
      "cell_type": "code",
      "metadata": {
        "id": "nA2J6SGz26cz",
        "colab_type": "code",
        "outputId": "4c24212e-8429-4ab0-be07-3860c4d48aa9",
        "colab": {
          "base_uri": "https://localhost:8080/",
          "height": 35
        }
      },
      "source": [
        "import keras\n",
        "from keras import layers\n",
        "from keras.models import Sequential\n",
        "\n",
        "def build_model(input_size, output_size):\n",
        "    m = Sequential()\n",
        "    m.add(layers.Dense(16, activation='relu', input_shape=(input_size,)))\n",
        "    m.add(layers.Dense(64, activation='relu'))\n",
        "    m.add(layers.Dense(128, activation='relu'))\n",
        "    m.add(layers.Dropout(0.2))\n",
        "    m.add(layers.Dense(256, activation='relu'))\n",
        "\n",
        "\n",
        "    # m.add(layers.Dense(output_size, activation='sigmoid'))\n",
        "    m.add(layers.Dense(output_size, activation='relu'))\n",
        "\n",
        "    # m.compile(loss='binary_crossentropy', optimizer='adam')\n",
        "    m.compile(loss='mse', optimizer='adam')\n",
        "    # m.compile(loss='categorical_crossentropy', optimizer='adam')\n",
        "\n",
        "    return m"
      ],
      "execution_count": 0,
      "outputs": [
        {
          "output_type": "stream",
          "text": [
            "Using TensorFlow backend.\n"
          ],
          "name": "stderr"
        }
      ]
    },
    {
      "cell_type": "markdown",
      "metadata": {
        "id": "YPYKaM_c-g5Q",
        "colab_type": "text"
      },
      "source": [
        "실행"
      ]
    },
    {
      "cell_type": "code",
      "metadata": {
        "id": "DIHfDjA8EfsI",
        "colab_type": "code",
        "outputId": "c79c25ec-7466-4ce4-e9da-8040ad4f3c81",
        "colab": {
          "base_uri": "https://localhost:8080/",
          "height": 593
        }
      },
      "source": [
        "data = m1_data()\n",
        "model = build_model(data.x_shape, data.y_shape)\n",
        "model.summary()\n",
        "history = model.fit(data.x_train, data.y_train*10, epochs=100, batch_size=5, validation_split=0.2, verbose=2)\n",
        "\n",
        "performace_test = model.evaluate(data.x_test, data.y_test*10, batch_size=5)\n",
        "print('\\nTest Loss -> {:.2f}'.format(performace_test))"
      ],
      "execution_count": 0,
      "outputs": [
        {
          "output_type": "stream",
          "text": [
            "Model: \"sequential_4\"\n",
            "_________________________________________________________________\n",
            "Layer (type)                 Output Shape              Param #   \n",
            "=================================================================\n",
            "dense_16 (Dense)             (None, 16)                80        \n",
            "_________________________________________________________________\n",
            "dense_17 (Dense)             (None, 64)                1088      \n",
            "_________________________________________________________________\n",
            "dense_18 (Dense)             (None, 128)               8320      \n",
            "_________________________________________________________________\n",
            "dropout_4 (Dropout)          (None, 128)               0         \n",
            "_________________________________________________________________\n",
            "dense_19 (Dense)             (None, 256)               33024     \n",
            "_________________________________________________________________\n",
            "dense_20 (Dense)             (None, 96)                24672     \n",
            "=================================================================\n",
            "Total params: 67,184\n",
            "Trainable params: 67,184\n",
            "Non-trainable params: 0\n",
            "_________________________________________________________________\n",
            "Epoch 1/1\n",
            "WARNING:tensorflow:From /usr/local/lib/python3.6/dist-packages/keras/backend/tensorflow_backend.py:190: The name tf.get_default_session is deprecated. Please use tf.compat.v1.get_default_session instead.\n",
            "\n",
            "WARNING:tensorflow:From /usr/local/lib/python3.6/dist-packages/keras/backend/tensorflow_backend.py:197: The name tf.ConfigProto is deprecated. Please use tf.compat.v1.ConfigProto instead.\n",
            "\n",
            "WARNING:tensorflow:From /usr/local/lib/python3.6/dist-packages/keras/backend/tensorflow_backend.py:207: The name tf.global_variables is deprecated. Please use tf.compat.v1.global_variables instead.\n",
            "\n",
            "WARNING:tensorflow:From /usr/local/lib/python3.6/dist-packages/keras/backend/tensorflow_backend.py:216: The name tf.is_variable_initialized is deprecated. Please use tf.compat.v1.is_variable_initialized instead.\n",
            "\n",
            "WARNING:tensorflow:From /usr/local/lib/python3.6/dist-packages/keras/backend/tensorflow_backend.py:223: The name tf.variables_initializer is deprecated. Please use tf.compat.v1.variables_initializer instead.\n",
            "\n",
            " - 6s - loss: 47.9614\n"
          ],
          "name": "stdout"
        }
      ]
    },
    {
      "cell_type": "markdown",
      "metadata": {
        "id": "mQP1-G6l-s0E",
        "colab_type": "text"
      },
      "source": [
        "그래프 그리기"
      ]
    },
    {
      "cell_type": "code",
      "metadata": {
        "id": "p7OXS755lxv_",
        "colab_type": "code",
        "outputId": "06240f97-4d65-410c-82de-9817d5a02031",
        "colab": {
          "base_uri": "https://localhost:8080/",
          "height": 279
        }
      },
      "source": [
        "plot_graph(history, 'loss')"
      ],
      "execution_count": 0,
      "outputs": [
        {
          "output_type": "display_data",
          "data": {
            "image/png": "[encoded data removed]",
            "text/plain": [
              "<Figure size 432x288 with 1 Axes>"
            ]
          },
          "metadata": {
            "tags": []
          }
        }
      ]
    },
    {
      "cell_type": "markdown",
      "metadata": {
        "id": "0MPYR8wr-uIM",
        "colab_type": "text"
      },
      "source": [
        "학습된 모델로 예측"
      ]
    },
    {
      "cell_type": "code",
      "metadata": {
        "id": "6c7RsSS0WwXB",
        "colab_type": "code",
        "outputId": "7d50bac0-f715-4d2a-9787-294c7f55217f",
        "colab": {
          "base_uri": "https://localhost:8080/",
          "height": 557
        }
      },
      "source": [
        "# d = np.array([[8, 5, 26.3, 3], [1, 1, -5.0, 1]])\n",
        "# model.predict(d[:1])[0]\n",
        "\n",
        "for i in range(10):\n",
        "    print(list(data.x_train[i]))\n",
        "    # print(model.predict(data.x_test[i:i+1])[0].reshape(2, -1))\n",
        "    pred = list(map(lambda x:1 if x >= 1 else 0, model.predict(data.x_test[i:i+1])[0]))\n",
        "    # pred = list(model.predict(data.x_test[i:i+1])[0])\n",
        "    print(pred[:48])\n",
        "    print(pred[48:])"
      ],
      "execution_count": 0,
      "outputs": [
        {
          "output_type": "stream",
          "text": [
            "[3.0, 7.0, 6.6, 2.0]\n",
            "[0, 0, 0, 0, 0, 0, 0, 0, 0, 0, 0, 0, 0, 0, 0, 0, 0, 0, 0, 0, 0, 0, 0, 0, 0, 0, 0, 0, 0, 0, 0, 0, 0, 0, 0, 0, 0, 1, 0, 0, 0, 0, 1, 0, 0, 0, 0, 0]\n",
            "[1, 1, 1, 1, 1, 0, 1, 1, 1, 1, 1, 1, 1, 1, 1, 1, 1, 1, 1, 1, 1, 1, 1, 0, 1, 1, 1, 1, 1, 1, 1, 1, 1, 1, 1, 1, 1, 1, 0, 1, 1, 1, 1, 1, 1, 1, 1, 1]\n",
            "[12.0, 7.0, 6.9, 2.0]\n",
            "[0, 0, 0, 0, 0, 0, 0, 0, 0, 0, 0, 0, 0, 0, 0, 0, 0, 0, 0, 0, 0, 0, 0, 0, 0, 0, 0, 0, 0, 0, 0, 0, 0, 0, 0, 0, 0, 0, 0, 0, 0, 0, 0, 0, 0, 0, 0, 0]\n",
            "[1, 1, 1, 1, 1, 0, 1, 1, 1, 1, 1, 1, 1, 1, 1, 1, 1, 1, 1, 1, 1, 1, 1, 0, 1, 1, 1, 1, 1, 1, 1, 1, 1, 1, 1, 1, 1, 1, 0, 1, 1, 1, 1, 1, 1, 1, 1, 1]\n",
            "[2.0, 4.0, 3.5, 2.0]\n",
            "[0, 0, 0, 0, 0, 0, 0, 0, 0, 0, 0, 0, 0, 0, 0, 0, 0, 0, 0, 0, 0, 0, 0, 0, 0, 0, 0, 0, 0, 0, 0, 0, 0, 0, 0, 0, 0, 1, 0, 1, 0, 0, 1, 0, 0, 0, 0, 0]\n",
            "[1, 1, 1, 1, 1, 0, 1, 1, 1, 1, 1, 1, 1, 1, 1, 1, 1, 1, 1, 1, 1, 1, 1, 0, 1, 1, 1, 1, 1, 1, 1, 1, 1, 1, 1, 1, 1, 1, 0, 1, 1, 1, 1, 1, 1, 1, 1, 1]\n",
            "[12.0, 6.0, -10.5, 1.0]\n",
            "[0, 0, 0, 0, 0, 0, 0, 0, 0, 0, 0, 0, 0, 0, 0, 0, 0, 0, 0, 0, 0, 0, 0, 0, 0, 0, 0, 0, 0, 0, 0, 0, 0, 0, 0, 0, 0, 1, 0, 1, 0, 0, 1, 0, 0, 0, 0, 0]\n",
            "[1, 1, 1, 1, 1, 0, 1, 1, 1, 1, 1, 1, 1, 1, 1, 1, 1, 1, 1, 1, 1, 1, 1, 0, 1, 1, 1, 1, 1, 1, 1, 1, 1, 1, 1, 1, 1, 1, 0, 1, 1, 1, 1, 1, 1, 1, 1, 1]\n",
            "[4.0, 7.0, 9.0, 3.0]\n",
            "[0, 0, 0, 0, 0, 0, 0, 0, 0, 0, 0, 0, 0, 0, 0, 0, 0, 0, 0, 0, 0, 0, 0, 0, 0, 0, 0, 0, 0, 0, 0, 0, 0, 0, 0, 0, 0, 0, 0, 0, 0, 0, 0, 0, 0, 0, 0, 0]\n",
            "[1, 1, 1, 1, 1, 0, 1, 1, 1, 1, 1, 1, 1, 1, 1, 1, 1, 1, 1, 1, 1, 1, 1, 0, 1, 1, 1, 1, 1, 1, 1, 1, 1, 1, 1, 1, 1, 1, 0, 1, 1, 1, 1, 1, 1, 1, 1, 1]\n",
            "[6.0, 2.0, 27.1, 2.0]\n",
            "[0, 0, 0, 0, 0, 0, 0, 0, 0, 0, 0, 0, 0, 0, 0, 0, 0, 0, 0, 0, 0, 0, 0, 0, 0, 0, 0, 0, 0, 0, 0, 0, 0, 0, 0, 0, 0, 0, 0, 0, 0, 0, 0, 0, 0, 0, 0, 0]\n",
            "[1, 1, 1, 1, 1, 0, 1, 1, 1, 1, 1, 1, 1, 1, 1, 1, 1, 1, 1, 1, 1, 1, 1, 0, 1, 1, 1, 1, 1, 1, 1, 1, 1, 1, 1, 1, 1, 1, 0, 1, 1, 1, 1, 1, 1, 1, 1, 1]\n",
            "[6.0, 6.0, 21.7, 3.0]\n",
            "[0, 0, 0, 0, 0, 0, 0, 0, 0, 0, 0, 0, 0, 0, 0, 0, 0, 0, 0, 0, 0, 0, 0, 0, 0, 0, 0, 0, 0, 0, 0, 0, 0, 0, 0, 0, 0, 0, 0, 0, 0, 0, 0, 0, 0, 0, 0, 0]\n",
            "[1, 1, 1, 1, 1, 0, 1, 1, 1, 1, 1, 1, 1, 1, 1, 1, 1, 1, 1, 1, 1, 1, 1, 0, 1, 1, 1, 1, 1, 1, 1, 1, 1, 1, 1, 1, 1, 1, 0, 1, 1, 1, 1, 1, 1, 1, 1, 1]\n",
            "[6.0, 3.0, 22.4, 2.0]\n",
            "[0, 0, 0, 0, 0, 0, 0, 0, 0, 0, 0, 0, 0, 0, 0, 0, 0, 0, 0, 0, 0, 0, 0, 0, 0, 0, 0, 0, 0, 0, 0, 0, 0, 0, 0, 0, 0, 0, 0, 0, 0, 0, 0, 0, 0, 0, 0, 0]\n",
            "[1, 1, 1, 1, 1, 0, 1, 1, 1, 1, 1, 1, 1, 1, 1, 1, 1, 1, 1, 1, 1, 1, 1, 0, 1, 1, 1, 1, 1, 1, 1, 1, 1, 1, 1, 1, 1, 1, 0, 1, 1, 1, 1, 1, 1, 1, 1, 1]\n",
            "[10.0, 7.0, 8.7, 1.0]\n",
            "[0, 0, 0, 0, 0, 0, 0, 0, 0, 0, 0, 0, 0, 0, 0, 0, 0, 0, 0, 0, 0, 0, 0, 0, 0, 0, 0, 0, 0, 0, 0, 0, 0, 0, 0, 0, 0, 0, 0, 0, 0, 0, 0, 0, 0, 0, 0, 0]\n",
            "[1, 1, 1, 1, 1, 0, 1, 1, 1, 1, 1, 1, 1, 1, 1, 1, 1, 1, 1, 1, 1, 1, 1, 0, 1, 1, 1, 1, 1, 1, 1, 1, 1, 1, 1, 1, 1, 1, 0, 1, 1, 1, 1, 1, 1, 1, 1, 1]\n",
            "[5.0, 6.0, 14.1, 1.0]\n",
            "[0, 0, 0, 0, 0, 0, 0, 0, 0, 0, 0, 0, 0, 0, 0, 0, 0, 0, 0, 0, 0, 0, 0, 0, 0, 0, 0, 0, 0, 0, 0, 0, 0, 0, 0, 0, 0, 0, 0, 0, 0, 0, 0, 0, 0, 0, 0, 0]\n",
            "[1, 1, 1, 1, 1, 0, 1, 1, 1, 1, 1, 1, 1, 1, 1, 1, 1, 1, 1, 1, 1, 1, 1, 0, 1, 1, 1, 1, 1, 1, 1, 1, 1, 1, 1, 1, 1, 1, 0, 1, 1, 1, 1, 1, 1, 1, 1, 1]\n"
          ],
          "name": "stdout"
        }
      ]
    },
    {
      "cell_type": "markdown",
      "metadata": {
        "id": "gUZaMBmQ0eqy",
        "colab_type": "text"
      },
      "source": [
        "모델 저장"
      ]
    },
    {
      "cell_type": "code",
      "metadata": {
        "id": "0LKBQy4n0dpQ",
        "colab_type": "code",
        "colab": {}
      },
      "source": [
        "# model.save('/content/gdrive/My Drive/GOE/model1.h5')"
      ],
      "execution_count": 0,
      "outputs": []
    },
    {
      "cell_type": "code",
      "metadata": {
        "id": "N-qkOW3ZVcBd",
        "colab_type": "code",
        "outputId": "2dbd4ad8-28f0-447c-b13d-c2d3c2347567",
        "colab": {
          "base_uri": "https://localhost:8080/",
          "height": 145
        }
      },
      "source": [
        "# m = load_model('/content/gdrive/My Drive/GOE/model1.h5')\n",
        "# data = m1_data()\n",
        "\n",
        "np.random.seed(int(time.time()))\n",
        "s = np.arange(data.x_test.shape[0])\n",
        "np.random.shuffle(s)\n",
        "\n",
        "# for i in s[:10]:\n",
        "#     print(list(data.x_train[i]))\n",
        "#     # print(m.predict(data.x_test[i:i+1])[0].reshape(2, -1))\n",
        "#     pred = list(map(lambda x:1 if x >= 0.5 else 0, m.predict(data.x_test[i:i+1])[0]))\n",
        "#     # pred = list(m.predict(data.x_test[i:i+1])[0])\n",
        "#     print(pred[:48])\n",
        "#     # print(pred[48:])\n",
        "\n",
        "print(data.x_test[s[:5]])\n",
        "\n",
        "pred = list(map(lambda x:1 if x >= 0.5 else 0, m.predict(data.x_test[s[:5]])[0]))\n",
        "print(pred)"
      ],
      "execution_count": 0,
      "outputs": [
        {
          "output_type": "stream",
          "text": [
            "[[ 1.   7.  -5.2  4. ]\n",
            " [ 2.   4.  -2.2  1. ]\n",
            " [ 4.   5.  10.4  3. ]\n",
            " [ 7.   5.  27.6  3. ]\n",
            " [ 6.   2.  22.1  1. ]]\n",
            "[0, 0, 0, 0, 0, 0, 0, 0, 0, 0, 0, 0, 0, 0, 0, 0, 0, 0, 0, 0, 0, 0, 0, 0, 0, 0, 0, 0, 0, 0, 0, 0, 0, 0, 0, 0, 0, 0, 0, 0, 0, 0, 0, 0, 0, 0, 0, 0, 1, 1, 1, 1, 1, 1, 1, 1, 1, 1, 1, 1, 1, 1, 1, 1, 1, 1, 1, 1, 1, 1, 1, 1, 1, 1, 1, 1, 1, 1, 1, 1, 1, 1, 1, 1, 1, 1, 1, 1, 1, 1, 1, 1, 1, 1, 1, 1]\n"
          ],
          "name": "stdout"
        }
      ]
    }
  ]
}